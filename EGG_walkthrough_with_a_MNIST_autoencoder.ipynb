{
  "nbformat": 4,
  "nbformat_minor": 0,
  "metadata": {
    "accelerator": "GPU",
    "colab": {
      "name": "Copy of EGG walkthrough with a MNIST autoencoder.ipynb",
      "provenance": [],
      "include_colab_link": true
    },
    "kernelspec": {
      "display_name": "Python 3",
      "language": "python",
      "name": "python3"
    },
    "language_info": {
      "codemirror_mode": {
        "name": "ipython",
        "version": 3
      },
      "file_extension": ".py",
      "mimetype": "text/x-python",
      "name": "python",
      "nbconvert_exporter": "python",
      "pygments_lexer": "ipython3",
      "version": "3.8.1"
    },
    "widgets": {
      "application/vnd.jupyter.widget-state+json": {
        "46c42efbe28344d8a78f851d745308c6": {
          "model_module": "@jupyter-widgets/controls",
          "model_name": "HBoxModel",
          "state": {
            "_dom_classes": [],
            "_model_module": "@jupyter-widgets/controls",
            "_model_module_version": "1.5.0",
            "_model_name": "HBoxModel",
            "_view_count": null,
            "_view_module": "@jupyter-widgets/controls",
            "_view_module_version": "1.5.0",
            "_view_name": "HBoxView",
            "box_style": "",
            "children": [
              "IPY_MODEL_38d2228921124431a9b70a0b5663d799",
              "IPY_MODEL_41cd8ebad7064b97b821ea118b2b0d5b"
            ],
            "layout": "IPY_MODEL_bce6033b3bcf4d52b4e5a041436b4d60"
          }
        },
        "38d2228921124431a9b70a0b5663d799": {
          "model_module": "@jupyter-widgets/controls",
          "model_name": "FloatProgressModel",
          "state": {
            "_dom_classes": [],
            "_model_module": "@jupyter-widgets/controls",
            "_model_module_version": "1.5.0",
            "_model_name": "FloatProgressModel",
            "_view_count": null,
            "_view_module": "@jupyter-widgets/controls",
            "_view_module_version": "1.5.0",
            "_view_name": "ProgressView",
            "bar_style": "info",
            "description": "",
            "description_tooltip": null,
            "layout": "IPY_MODEL_fa7832969234457088c6738a2c0c42d5",
            "max": 1,
            "min": 0,
            "orientation": "horizontal",
            "style": "IPY_MODEL_877b348946324c11a6fe2178c839c005",
            "value": 1
          }
        },
        "41cd8ebad7064b97b821ea118b2b0d5b": {
          "model_module": "@jupyter-widgets/controls",
          "model_name": "HTMLModel",
          "state": {
            "_dom_classes": [],
            "_model_module": "@jupyter-widgets/controls",
            "_model_module_version": "1.5.0",
            "_model_name": "HTMLModel",
            "_view_count": null,
            "_view_module": "@jupyter-widgets/controls",
            "_view_module_version": "1.5.0",
            "_view_name": "HTMLView",
            "description": "",
            "description_tooltip": null,
            "layout": "IPY_MODEL_30aa97d0aee444a38b20bc7dbf1c57c4",
            "placeholder": "​",
            "style": "IPY_MODEL_82beb50105f14bf882e725d625d991bc",
            "value": " 9920512/? [00:20&lt;00:00, 168822.05it/s]"
          }
        },
        "bce6033b3bcf4d52b4e5a041436b4d60": {
          "model_module": "@jupyter-widgets/base",
          "model_name": "LayoutModel",
          "state": {
            "_model_module": "@jupyter-widgets/base",
            "_model_module_version": "1.2.0",
            "_model_name": "LayoutModel",
            "_view_count": null,
            "_view_module": "@jupyter-widgets/base",
            "_view_module_version": "1.2.0",
            "_view_name": "LayoutView",
            "align_content": null,
            "align_items": null,
            "align_self": null,
            "border": null,
            "bottom": null,
            "display": null,
            "flex": null,
            "flex_flow": null,
            "grid_area": null,
            "grid_auto_columns": null,
            "grid_auto_flow": null,
            "grid_auto_rows": null,
            "grid_column": null,
            "grid_gap": null,
            "grid_row": null,
            "grid_template_areas": null,
            "grid_template_columns": null,
            "grid_template_rows": null,
            "height": null,
            "justify_content": null,
            "justify_items": null,
            "left": null,
            "margin": null,
            "max_height": null,
            "max_width": null,
            "min_height": null,
            "min_width": null,
            "object_fit": null,
            "object_position": null,
            "order": null,
            "overflow": null,
            "overflow_x": null,
            "overflow_y": null,
            "padding": null,
            "right": null,
            "top": null,
            "visibility": null,
            "width": null
          }
        },
        "fa7832969234457088c6738a2c0c42d5": {
          "model_module": "@jupyter-widgets/base",
          "model_name": "LayoutModel",
          "state": {
            "_model_module": "@jupyter-widgets/base",
            "_model_module_version": "1.2.0",
            "_model_name": "LayoutModel",
            "_view_count": null,
            "_view_module": "@jupyter-widgets/base",
            "_view_module_version": "1.2.0",
            "_view_name": "LayoutView",
            "align_content": null,
            "align_items": null,
            "align_self": null,
            "border": null,
            "bottom": null,
            "display": null,
            "flex": null,
            "flex_flow": null,
            "grid_area": null,
            "grid_auto_columns": null,
            "grid_auto_flow": null,
            "grid_auto_rows": null,
            "grid_column": null,
            "grid_gap": null,
            "grid_row": null,
            "grid_template_areas": null,
            "grid_template_columns": null,
            "grid_template_rows": null,
            "height": null,
            "justify_content": null,
            "justify_items": null,
            "left": null,
            "margin": null,
            "max_height": null,
            "max_width": null,
            "min_height": null,
            "min_width": null,
            "object_fit": null,
            "object_position": null,
            "order": null,
            "overflow": null,
            "overflow_x": null,
            "overflow_y": null,
            "padding": null,
            "right": null,
            "top": null,
            "visibility": null,
            "width": null
          }
        },
        "877b348946324c11a6fe2178c839c005": {
          "model_module": "@jupyter-widgets/controls",
          "model_name": "ProgressStyleModel",
          "state": {
            "_model_module": "@jupyter-widgets/controls",
            "_model_module_version": "1.5.0",
            "_model_name": "ProgressStyleModel",
            "_view_count": null,
            "_view_module": "@jupyter-widgets/base",
            "_view_module_version": "1.2.0",
            "_view_name": "StyleView",
            "bar_color": null,
            "description_width": "initial"
          }
        },
        "30aa97d0aee444a38b20bc7dbf1c57c4": {
          "model_module": "@jupyter-widgets/base",
          "model_name": "LayoutModel",
          "state": {
            "_model_module": "@jupyter-widgets/base",
            "_model_module_version": "1.2.0",
            "_model_name": "LayoutModel",
            "_view_count": null,
            "_view_module": "@jupyter-widgets/base",
            "_view_module_version": "1.2.0",
            "_view_name": "LayoutView",
            "align_content": null,
            "align_items": null,
            "align_self": null,
            "border": null,
            "bottom": null,
            "display": null,
            "flex": null,
            "flex_flow": null,
            "grid_area": null,
            "grid_auto_columns": null,
            "grid_auto_flow": null,
            "grid_auto_rows": null,
            "grid_column": null,
            "grid_gap": null,
            "grid_row": null,
            "grid_template_areas": null,
            "grid_template_columns": null,
            "grid_template_rows": null,
            "height": null,
            "justify_content": null,
            "justify_items": null,
            "left": null,
            "margin": null,
            "max_height": null,
            "max_width": null,
            "min_height": null,
            "min_width": null,
            "object_fit": null,
            "object_position": null,
            "order": null,
            "overflow": null,
            "overflow_x": null,
            "overflow_y": null,
            "padding": null,
            "right": null,
            "top": null,
            "visibility": null,
            "width": null
          }
        },
        "82beb50105f14bf882e725d625d991bc": {
          "model_module": "@jupyter-widgets/controls",
          "model_name": "DescriptionStyleModel",
          "state": {
            "_model_module": "@jupyter-widgets/controls",
            "_model_module_version": "1.5.0",
            "_model_name": "DescriptionStyleModel",
            "_view_count": null,
            "_view_module": "@jupyter-widgets/base",
            "_view_module_version": "1.2.0",
            "_view_name": "StyleView",
            "description_width": ""
          }
        },
        "335fb1c63f8c416f9038aea09103b4fd": {
          "model_module": "@jupyter-widgets/controls",
          "model_name": "HBoxModel",
          "state": {
            "_dom_classes": [],
            "_model_module": "@jupyter-widgets/controls",
            "_model_module_version": "1.5.0",
            "_model_name": "HBoxModel",
            "_view_count": null,
            "_view_module": "@jupyter-widgets/controls",
            "_view_module_version": "1.5.0",
            "_view_name": "HBoxView",
            "box_style": "",
            "children": [
              "IPY_MODEL_669c17876bb2454e9bd860814f45a7b9",
              "IPY_MODEL_7014aac38a79487faa32763021e13942"
            ],
            "layout": "IPY_MODEL_23b589ba52054c82be65e27cd2606ce6"
          }
        },
        "669c17876bb2454e9bd860814f45a7b9": {
          "model_module": "@jupyter-widgets/controls",
          "model_name": "FloatProgressModel",
          "state": {
            "_dom_classes": [],
            "_model_module": "@jupyter-widgets/controls",
            "_model_module_version": "1.5.0",
            "_model_name": "FloatProgressModel",
            "_view_count": null,
            "_view_module": "@jupyter-widgets/controls",
            "_view_module_version": "1.5.0",
            "_view_name": "ProgressView",
            "bar_style": "success",
            "description": "",
            "description_tooltip": null,
            "layout": "IPY_MODEL_14823a0a822c4e299e113cf95f008eed",
            "max": 1,
            "min": 0,
            "orientation": "horizontal",
            "style": "IPY_MODEL_1813e266a02d404ead5496354c95011d",
            "value": 1
          }
        },
        "7014aac38a79487faa32763021e13942": {
          "model_module": "@jupyter-widgets/controls",
          "model_name": "HTMLModel",
          "state": {
            "_dom_classes": [],
            "_model_module": "@jupyter-widgets/controls",
            "_model_module_version": "1.5.0",
            "_model_name": "HTMLModel",
            "_view_count": null,
            "_view_module": "@jupyter-widgets/controls",
            "_view_module_version": "1.5.0",
            "_view_name": "HTMLView",
            "description": "",
            "description_tooltip": null,
            "layout": "IPY_MODEL_551b077a4bd743e388a15c64a527664f",
            "placeholder": "​",
            "style": "IPY_MODEL_33e26c72916a42a18add600401d3941d",
            "value": " 32768/? [00:00&lt;00:00, 104973.57it/s]"
          }
        },
        "23b589ba52054c82be65e27cd2606ce6": {
          "model_module": "@jupyter-widgets/base",
          "model_name": "LayoutModel",
          "state": {
            "_model_module": "@jupyter-widgets/base",
            "_model_module_version": "1.2.0",
            "_model_name": "LayoutModel",
            "_view_count": null,
            "_view_module": "@jupyter-widgets/base",
            "_view_module_version": "1.2.0",
            "_view_name": "LayoutView",
            "align_content": null,
            "align_items": null,
            "align_self": null,
            "border": null,
            "bottom": null,
            "display": null,
            "flex": null,
            "flex_flow": null,
            "grid_area": null,
            "grid_auto_columns": null,
            "grid_auto_flow": null,
            "grid_auto_rows": null,
            "grid_column": null,
            "grid_gap": null,
            "grid_row": null,
            "grid_template_areas": null,
            "grid_template_columns": null,
            "grid_template_rows": null,
            "height": null,
            "justify_content": null,
            "justify_items": null,
            "left": null,
            "margin": null,
            "max_height": null,
            "max_width": null,
            "min_height": null,
            "min_width": null,
            "object_fit": null,
            "object_position": null,
            "order": null,
            "overflow": null,
            "overflow_x": null,
            "overflow_y": null,
            "padding": null,
            "right": null,
            "top": null,
            "visibility": null,
            "width": null
          }
        },
        "14823a0a822c4e299e113cf95f008eed": {
          "model_module": "@jupyter-widgets/base",
          "model_name": "LayoutModel",
          "state": {
            "_model_module": "@jupyter-widgets/base",
            "_model_module_version": "1.2.0",
            "_model_name": "LayoutModel",
            "_view_count": null,
            "_view_module": "@jupyter-widgets/base",
            "_view_module_version": "1.2.0",
            "_view_name": "LayoutView",
            "align_content": null,
            "align_items": null,
            "align_self": null,
            "border": null,
            "bottom": null,
            "display": null,
            "flex": null,
            "flex_flow": null,
            "grid_area": null,
            "grid_auto_columns": null,
            "grid_auto_flow": null,
            "grid_auto_rows": null,
            "grid_column": null,
            "grid_gap": null,
            "grid_row": null,
            "grid_template_areas": null,
            "grid_template_columns": null,
            "grid_template_rows": null,
            "height": null,
            "justify_content": null,
            "justify_items": null,
            "left": null,
            "margin": null,
            "max_height": null,
            "max_width": null,
            "min_height": null,
            "min_width": null,
            "object_fit": null,
            "object_position": null,
            "order": null,
            "overflow": null,
            "overflow_x": null,
            "overflow_y": null,
            "padding": null,
            "right": null,
            "top": null,
            "visibility": null,
            "width": null
          }
        },
        "1813e266a02d404ead5496354c95011d": {
          "model_module": "@jupyter-widgets/controls",
          "model_name": "ProgressStyleModel",
          "state": {
            "_model_module": "@jupyter-widgets/controls",
            "_model_module_version": "1.5.0",
            "_model_name": "ProgressStyleModel",
            "_view_count": null,
            "_view_module": "@jupyter-widgets/base",
            "_view_module_version": "1.2.0",
            "_view_name": "StyleView",
            "bar_color": null,
            "description_width": "initial"
          }
        },
        "551b077a4bd743e388a15c64a527664f": {
          "model_module": "@jupyter-widgets/base",
          "model_name": "LayoutModel",
          "state": {
            "_model_module": "@jupyter-widgets/base",
            "_model_module_version": "1.2.0",
            "_model_name": "LayoutModel",
            "_view_count": null,
            "_view_module": "@jupyter-widgets/base",
            "_view_module_version": "1.2.0",
            "_view_name": "LayoutView",
            "align_content": null,
            "align_items": null,
            "align_self": null,
            "border": null,
            "bottom": null,
            "display": null,
            "flex": null,
            "flex_flow": null,
            "grid_area": null,
            "grid_auto_columns": null,
            "grid_auto_flow": null,
            "grid_auto_rows": null,
            "grid_column": null,
            "grid_gap": null,
            "grid_row": null,
            "grid_template_areas": null,
            "grid_template_columns": null,
            "grid_template_rows": null,
            "height": null,
            "justify_content": null,
            "justify_items": null,
            "left": null,
            "margin": null,
            "max_height": null,
            "max_width": null,
            "min_height": null,
            "min_width": null,
            "object_fit": null,
            "object_position": null,
            "order": null,
            "overflow": null,
            "overflow_x": null,
            "overflow_y": null,
            "padding": null,
            "right": null,
            "top": null,
            "visibility": null,
            "width": null
          }
        },
        "33e26c72916a42a18add600401d3941d": {
          "model_module": "@jupyter-widgets/controls",
          "model_name": "DescriptionStyleModel",
          "state": {
            "_model_module": "@jupyter-widgets/controls",
            "_model_module_version": "1.5.0",
            "_model_name": "DescriptionStyleModel",
            "_view_count": null,
            "_view_module": "@jupyter-widgets/base",
            "_view_module_version": "1.2.0",
            "_view_name": "StyleView",
            "description_width": ""
          }
        },
        "73092f6d4db94c8a930533215aa5e774": {
          "model_module": "@jupyter-widgets/controls",
          "model_name": "HBoxModel",
          "state": {
            "_dom_classes": [],
            "_model_module": "@jupyter-widgets/controls",
            "_model_module_version": "1.5.0",
            "_model_name": "HBoxModel",
            "_view_count": null,
            "_view_module": "@jupyter-widgets/controls",
            "_view_module_version": "1.5.0",
            "_view_name": "HBoxView",
            "box_style": "",
            "children": [
              "IPY_MODEL_4afa68ba3ee349f9afff7fc286322e90",
              "IPY_MODEL_67b41b0a0c474487984616855eaf91f4"
            ],
            "layout": "IPY_MODEL_18b2306454d34af9aee0616684088f8d"
          }
        },
        "4afa68ba3ee349f9afff7fc286322e90": {
          "model_module": "@jupyter-widgets/controls",
          "model_name": "FloatProgressModel",
          "state": {
            "_dom_classes": [],
            "_model_module": "@jupyter-widgets/controls",
            "_model_module_version": "1.5.0",
            "_model_name": "FloatProgressModel",
            "_view_count": null,
            "_view_module": "@jupyter-widgets/controls",
            "_view_module_version": "1.5.0",
            "_view_name": "ProgressView",
            "bar_style": "success",
            "description": "",
            "description_tooltip": null,
            "layout": "IPY_MODEL_e864a925d2bd4b4bb47fd9109ebadbaa",
            "max": 1,
            "min": 0,
            "orientation": "horizontal",
            "style": "IPY_MODEL_65ec07d7142c45dc86d2c13e51751041",
            "value": 1
          }
        },
        "67b41b0a0c474487984616855eaf91f4": {
          "model_module": "@jupyter-widgets/controls",
          "model_name": "HTMLModel",
          "state": {
            "_dom_classes": [],
            "_model_module": "@jupyter-widgets/controls",
            "_model_module_version": "1.5.0",
            "_model_name": "HTMLModel",
            "_view_count": null,
            "_view_module": "@jupyter-widgets/controls",
            "_view_module_version": "1.5.0",
            "_view_name": "HTMLView",
            "description": "",
            "description_tooltip": null,
            "layout": "IPY_MODEL_4115cadbb3074b3fb6eb7aebb964e122",
            "placeholder": "​",
            "style": "IPY_MODEL_aa3cba5d664f44ada4d0e0c120f517df",
            "value": " 1654784/? [00:00&lt;00:00, 7147155.62it/s]"
          }
        },
        "18b2306454d34af9aee0616684088f8d": {
          "model_module": "@jupyter-widgets/base",
          "model_name": "LayoutModel",
          "state": {
            "_model_module": "@jupyter-widgets/base",
            "_model_module_version": "1.2.0",
            "_model_name": "LayoutModel",
            "_view_count": null,
            "_view_module": "@jupyter-widgets/base",
            "_view_module_version": "1.2.0",
            "_view_name": "LayoutView",
            "align_content": null,
            "align_items": null,
            "align_self": null,
            "border": null,
            "bottom": null,
            "display": null,
            "flex": null,
            "flex_flow": null,
            "grid_area": null,
            "grid_auto_columns": null,
            "grid_auto_flow": null,
            "grid_auto_rows": null,
            "grid_column": null,
            "grid_gap": null,
            "grid_row": null,
            "grid_template_areas": null,
            "grid_template_columns": null,
            "grid_template_rows": null,
            "height": null,
            "justify_content": null,
            "justify_items": null,
            "left": null,
            "margin": null,
            "max_height": null,
            "max_width": null,
            "min_height": null,
            "min_width": null,
            "object_fit": null,
            "object_position": null,
            "order": null,
            "overflow": null,
            "overflow_x": null,
            "overflow_y": null,
            "padding": null,
            "right": null,
            "top": null,
            "visibility": null,
            "width": null
          }
        },
        "e864a925d2bd4b4bb47fd9109ebadbaa": {
          "model_module": "@jupyter-widgets/base",
          "model_name": "LayoutModel",
          "state": {
            "_model_module": "@jupyter-widgets/base",
            "_model_module_version": "1.2.0",
            "_model_name": "LayoutModel",
            "_view_count": null,
            "_view_module": "@jupyter-widgets/base",
            "_view_module_version": "1.2.0",
            "_view_name": "LayoutView",
            "align_content": null,
            "align_items": null,
            "align_self": null,
            "border": null,
            "bottom": null,
            "display": null,
            "flex": null,
            "flex_flow": null,
            "grid_area": null,
            "grid_auto_columns": null,
            "grid_auto_flow": null,
            "grid_auto_rows": null,
            "grid_column": null,
            "grid_gap": null,
            "grid_row": null,
            "grid_template_areas": null,
            "grid_template_columns": null,
            "grid_template_rows": null,
            "height": null,
            "justify_content": null,
            "justify_items": null,
            "left": null,
            "margin": null,
            "max_height": null,
            "max_width": null,
            "min_height": null,
            "min_width": null,
            "object_fit": null,
            "object_position": null,
            "order": null,
            "overflow": null,
            "overflow_x": null,
            "overflow_y": null,
            "padding": null,
            "right": null,
            "top": null,
            "visibility": null,
            "width": null
          }
        },
        "65ec07d7142c45dc86d2c13e51751041": {
          "model_module": "@jupyter-widgets/controls",
          "model_name": "ProgressStyleModel",
          "state": {
            "_model_module": "@jupyter-widgets/controls",
            "_model_module_version": "1.5.0",
            "_model_name": "ProgressStyleModel",
            "_view_count": null,
            "_view_module": "@jupyter-widgets/base",
            "_view_module_version": "1.2.0",
            "_view_name": "StyleView",
            "bar_color": null,
            "description_width": "initial"
          }
        },
        "4115cadbb3074b3fb6eb7aebb964e122": {
          "model_module": "@jupyter-widgets/base",
          "model_name": "LayoutModel",
          "state": {
            "_model_module": "@jupyter-widgets/base",
            "_model_module_version": "1.2.0",
            "_model_name": "LayoutModel",
            "_view_count": null,
            "_view_module": "@jupyter-widgets/base",
            "_view_module_version": "1.2.0",
            "_view_name": "LayoutView",
            "align_content": null,
            "align_items": null,
            "align_self": null,
            "border": null,
            "bottom": null,
            "display": null,
            "flex": null,
            "flex_flow": null,
            "grid_area": null,
            "grid_auto_columns": null,
            "grid_auto_flow": null,
            "grid_auto_rows": null,
            "grid_column": null,
            "grid_gap": null,
            "grid_row": null,
            "grid_template_areas": null,
            "grid_template_columns": null,
            "grid_template_rows": null,
            "height": null,
            "justify_content": null,
            "justify_items": null,
            "left": null,
            "margin": null,
            "max_height": null,
            "max_width": null,
            "min_height": null,
            "min_width": null,
            "object_fit": null,
            "object_position": null,
            "order": null,
            "overflow": null,
            "overflow_x": null,
            "overflow_y": null,
            "padding": null,
            "right": null,
            "top": null,
            "visibility": null,
            "width": null
          }
        },
        "aa3cba5d664f44ada4d0e0c120f517df": {
          "model_module": "@jupyter-widgets/controls",
          "model_name": "DescriptionStyleModel",
          "state": {
            "_model_module": "@jupyter-widgets/controls",
            "_model_module_version": "1.5.0",
            "_model_name": "DescriptionStyleModel",
            "_view_count": null,
            "_view_module": "@jupyter-widgets/base",
            "_view_module_version": "1.2.0",
            "_view_name": "StyleView",
            "description_width": ""
          }
        },
        "0b15e560a37840199142cc1a4ae18922": {
          "model_module": "@jupyter-widgets/controls",
          "model_name": "HBoxModel",
          "state": {
            "_dom_classes": [],
            "_model_module": "@jupyter-widgets/controls",
            "_model_module_version": "1.5.0",
            "_model_name": "HBoxModel",
            "_view_count": null,
            "_view_module": "@jupyter-widgets/controls",
            "_view_module_version": "1.5.0",
            "_view_name": "HBoxView",
            "box_style": "",
            "children": [
              "IPY_MODEL_73e7cbd217404daf8dbae8899f10d704",
              "IPY_MODEL_53a48f6a6db642978e90b487548b5b11"
            ],
            "layout": "IPY_MODEL_130bdb06b8144500b99bd7d7066c31b5"
          }
        },
        "73e7cbd217404daf8dbae8899f10d704": {
          "model_module": "@jupyter-widgets/controls",
          "model_name": "FloatProgressModel",
          "state": {
            "_dom_classes": [],
            "_model_module": "@jupyter-widgets/controls",
            "_model_module_version": "1.5.0",
            "_model_name": "FloatProgressModel",
            "_view_count": null,
            "_view_module": "@jupyter-widgets/controls",
            "_view_module_version": "1.5.0",
            "_view_name": "ProgressView",
            "bar_style": "info",
            "description": "",
            "description_tooltip": null,
            "layout": "IPY_MODEL_ad99876682904f1488ed5a7666ce17f3",
            "max": 1,
            "min": 0,
            "orientation": "horizontal",
            "style": "IPY_MODEL_5167857d1a654bd6b2b67fb0f7a7048d",
            "value": 0
          }
        },
        "53a48f6a6db642978e90b487548b5b11": {
          "model_module": "@jupyter-widgets/controls",
          "model_name": "HTMLModel",
          "state": {
            "_dom_classes": [],
            "_model_module": "@jupyter-widgets/controls",
            "_model_module_version": "1.5.0",
            "_model_name": "HTMLModel",
            "_view_count": null,
            "_view_module": "@jupyter-widgets/controls",
            "_view_module_version": "1.5.0",
            "_view_name": "HTMLView",
            "description": "",
            "description_tooltip": null,
            "layout": "IPY_MODEL_b28be82d6aa04054987451e6b78a3960",
            "placeholder": "​",
            "style": "IPY_MODEL_ccb9cc7eeabb4efd9af4c53703ea37bf",
            "value": " 0/? [00:00&lt;?, ?it/s]"
          }
        },
        "130bdb06b8144500b99bd7d7066c31b5": {
          "model_module": "@jupyter-widgets/base",
          "model_name": "LayoutModel",
          "state": {
            "_model_module": "@jupyter-widgets/base",
            "_model_module_version": "1.2.0",
            "_model_name": "LayoutModel",
            "_view_count": null,
            "_view_module": "@jupyter-widgets/base",
            "_view_module_version": "1.2.0",
            "_view_name": "LayoutView",
            "align_content": null,
            "align_items": null,
            "align_self": null,
            "border": null,
            "bottom": null,
            "display": null,
            "flex": null,
            "flex_flow": null,
            "grid_area": null,
            "grid_auto_columns": null,
            "grid_auto_flow": null,
            "grid_auto_rows": null,
            "grid_column": null,
            "grid_gap": null,
            "grid_row": null,
            "grid_template_areas": null,
            "grid_template_columns": null,
            "grid_template_rows": null,
            "height": null,
            "justify_content": null,
            "justify_items": null,
            "left": null,
            "margin": null,
            "max_height": null,
            "max_width": null,
            "min_height": null,
            "min_width": null,
            "object_fit": null,
            "object_position": null,
            "order": null,
            "overflow": null,
            "overflow_x": null,
            "overflow_y": null,
            "padding": null,
            "right": null,
            "top": null,
            "visibility": null,
            "width": null
          }
        },
        "ad99876682904f1488ed5a7666ce17f3": {
          "model_module": "@jupyter-widgets/base",
          "model_name": "LayoutModel",
          "state": {
            "_model_module": "@jupyter-widgets/base",
            "_model_module_version": "1.2.0",
            "_model_name": "LayoutModel",
            "_view_count": null,
            "_view_module": "@jupyter-widgets/base",
            "_view_module_version": "1.2.0",
            "_view_name": "LayoutView",
            "align_content": null,
            "align_items": null,
            "align_self": null,
            "border": null,
            "bottom": null,
            "display": null,
            "flex": null,
            "flex_flow": null,
            "grid_area": null,
            "grid_auto_columns": null,
            "grid_auto_flow": null,
            "grid_auto_rows": null,
            "grid_column": null,
            "grid_gap": null,
            "grid_row": null,
            "grid_template_areas": null,
            "grid_template_columns": null,
            "grid_template_rows": null,
            "height": null,
            "justify_content": null,
            "justify_items": null,
            "left": null,
            "margin": null,
            "max_height": null,
            "max_width": null,
            "min_height": null,
            "min_width": null,
            "object_fit": null,
            "object_position": null,
            "order": null,
            "overflow": null,
            "overflow_x": null,
            "overflow_y": null,
            "padding": null,
            "right": null,
            "top": null,
            "visibility": null,
            "width": null
          }
        },
        "5167857d1a654bd6b2b67fb0f7a7048d": {
          "model_module": "@jupyter-widgets/controls",
          "model_name": "ProgressStyleModel",
          "state": {
            "_model_module": "@jupyter-widgets/controls",
            "_model_module_version": "1.5.0",
            "_model_name": "ProgressStyleModel",
            "_view_count": null,
            "_view_module": "@jupyter-widgets/base",
            "_view_module_version": "1.2.0",
            "_view_name": "StyleView",
            "bar_color": null,
            "description_width": "initial"
          }
        },
        "b28be82d6aa04054987451e6b78a3960": {
          "model_module": "@jupyter-widgets/base",
          "model_name": "LayoutModel",
          "state": {
            "_model_module": "@jupyter-widgets/base",
            "_model_module_version": "1.2.0",
            "_model_name": "LayoutModel",
            "_view_count": null,
            "_view_module": "@jupyter-widgets/base",
            "_view_module_version": "1.2.0",
            "_view_name": "LayoutView",
            "align_content": null,
            "align_items": null,
            "align_self": null,
            "border": null,
            "bottom": null,
            "display": null,
            "flex": null,
            "flex_flow": null,
            "grid_area": null,
            "grid_auto_columns": null,
            "grid_auto_flow": null,
            "grid_auto_rows": null,
            "grid_column": null,
            "grid_gap": null,
            "grid_row": null,
            "grid_template_areas": null,
            "grid_template_columns": null,
            "grid_template_rows": null,
            "height": null,
            "justify_content": null,
            "justify_items": null,
            "left": null,
            "margin": null,
            "max_height": null,
            "max_width": null,
            "min_height": null,
            "min_width": null,
            "object_fit": null,
            "object_position": null,
            "order": null,
            "overflow": null,
            "overflow_x": null,
            "overflow_y": null,
            "padding": null,
            "right": null,
            "top": null,
            "visibility": null,
            "width": null
          }
        },
        "ccb9cc7eeabb4efd9af4c53703ea37bf": {
          "model_module": "@jupyter-widgets/controls",
          "model_name": "DescriptionStyleModel",
          "state": {
            "_model_module": "@jupyter-widgets/controls",
            "_model_module_version": "1.5.0",
            "_model_name": "DescriptionStyleModel",
            "_view_count": null,
            "_view_module": "@jupyter-widgets/base",
            "_view_module_version": "1.2.0",
            "_view_name": "StyleView",
            "description_width": ""
          }
        }
      }
    }
  },
  "cells": [
    {
      "cell_type": "markdown",
      "metadata": {
        "id": "view-in-github",
        "colab_type": "text"
      },
      "source": [
        "<a href=\"https://colab.research.google.com/github/OfirShechter/Community-Structure/blob/master/EGG_walkthrough_with_a_MNIST_autoencoder.ipynb\" target=\"_parent\"><img src=\"https://colab.research.google.com/assets/colab-badge.svg\" alt=\"Open In Colab\"/></a>"
      ]
    },
    {
      "cell_type": "markdown",
      "metadata": {
        "id": "C0P3FdJ3OW1A"
      },
      "source": [
        "## Intro\n",
        "\n",
        "EGG provides multiple components to create different types of games. In particular, EGG has strong tooling for creating one-step Sender/Receiver games. In these games, two agents, Sender and Receiver, are trained to perform a common task while following a simple communication protocol:\n",
        "\n",
        " * Sender receives an input (e.g., an image) and sends a single message to Receiver;\n",
        " * Receiver obtains the message and (optionally) its own input, produces an output.\n",
        "\n",
        "This type of games includes, for instance, signaling games and discrete auto-encoders. In a nutshell, any Sender/Receiver game only differs in terms of (a) input data, (b) agents' architecture, (c) communication type (one-symbol, fixed-lentgh or variable-length multiple-symbol messages), (d) loss. EGG allows us to create new games by only specifying those components. \n",
        "\n",
        "In most cases, training of agents with discrete channel communication is done either via Gumbel-Softmax relaxation or by means of Reinforce. EGG allows to switch between the two with minimal changes in the logic.\n",
        "\n",
        "\n",
        "\n",
        "## MNIST Auto-encoder game\n",
        "\n",
        "In this  tutorial we will create a conceptually simple, but fully-featured Sender/Receiver game. In this game, Sender and Receiver are trained together such that Sender tries to encode a MNIST digit in a discrete message and Receiver will try to decode it from the message.\n",
        "\n",
        "While implementing this game, we will walk through several steps, typical for creating a new game:\n",
        " * pre-train a _vision_ module for the Sender agent by training it to classify digits;\n",
        " * use the pre-trained vision module to implement Sender and Receiver that communicate via a single symbol messages and analyse the trained models;\n",
        " * update the agents to allow variable-length multi-symbol messages.\n",
        "\n",
        "NB: depending on the computational resources you have available, this might be slow to run. To get at least a sense of the full pipeline, consider reducing the number of training epochs, or, alternatively, run a Google Colab version of the tutorial using a GPU.\n",
        "\n",
        "So let's start!"
      ]
    },
    {
      "cell_type": "code",
      "metadata": {
        "colab": {
          "base_uri": "https://localhost:8080/"
        },
        "id": "v5Ho0OaAOW1N",
        "outputId": "b420c261-00ce-4cf6-ed93-513a3103e648"
      },
      "source": [
        "# if you are running this notebook via Google Colab, you have to install EGG first\n",
        "!pip install git+https://github.com/facebookresearch/EGG.git\n",
        "# also you'll need to change the runtime to GPU (Runtime -> Change runtime type -> Hardware Accelator -> GPU)"
      ],
      "execution_count": null,
      "outputs": [
        {
          "output_type": "stream",
          "text": [
            "Collecting git+https://github.com/facebookresearch/EGG.git\n",
            "  Cloning https://github.com/facebookresearch/EGG.git to /tmp/pip-req-build-uzk26b1u\n",
            "  Running command git clone -q https://github.com/facebookresearch/EGG.git /tmp/pip-req-build-uzk26b1u\n",
            "Requirement already satisfied: torch>=1.1.0 in /usr/local/lib/python3.6/dist-packages (from EGG==0.1.0) (1.7.0+cu101)\n",
            "Requirement already satisfied: torchvision in /usr/local/lib/python3.6/dist-packages (from EGG==0.1.0) (0.8.1+cu101)\n",
            "Requirement already satisfied: scipy in /usr/local/lib/python3.6/dist-packages (from EGG==0.1.0) (1.4.1)\n",
            "Requirement already satisfied: numpy in /usr/local/lib/python3.6/dist-packages (from EGG==0.1.0) (1.19.5)\n",
            "Requirement already satisfied: pytest in /usr/local/lib/python3.6/dist-packages (from EGG==0.1.0) (3.6.4)\n",
            "Requirement already satisfied: editdistance in /usr/local/lib/python3.6/dist-packages (from EGG==0.1.0) (0.5.3)\n",
            "Requirement already satisfied: dataclasses in /usr/local/lib/python3.6/dist-packages (from EGG==0.1.0) (0.8)\n",
            "Collecting rich\n",
            "\u001b[?25l  Downloading https://files.pythonhosted.org/packages/47/88/950c9faf995c80b6b4e8463e1f059a03ff2be69bb93e94d5fed6175253cb/rich-9.11.1-py3-none-any.whl (195kB)\n",
            "\u001b[K     |████████████████████████████████| 204kB 23.4MB/s \n",
            "\u001b[?25hRequirement already satisfied: future in /usr/local/lib/python3.6/dist-packages (from torch>=1.1.0->EGG==0.1.0) (0.16.0)\n",
            "Requirement already satisfied: typing-extensions in /usr/local/lib/python3.6/dist-packages (from torch>=1.1.0->EGG==0.1.0) (3.7.4.3)\n",
            "Requirement already satisfied: pillow>=4.1.1 in /usr/local/lib/python3.6/dist-packages (from torchvision->EGG==0.1.0) (7.0.0)\n",
            "Requirement already satisfied: attrs>=17.4.0 in /usr/local/lib/python3.6/dist-packages (from pytest->EGG==0.1.0) (20.3.0)\n",
            "Requirement already satisfied: six>=1.10.0 in /usr/local/lib/python3.6/dist-packages (from pytest->EGG==0.1.0) (1.15.0)\n",
            "Requirement already satisfied: py>=1.5.0 in /usr/local/lib/python3.6/dist-packages (from pytest->EGG==0.1.0) (1.10.0)\n",
            "Requirement already satisfied: setuptools in /usr/local/lib/python3.6/dist-packages (from pytest->EGG==0.1.0) (53.0.0)\n",
            "Requirement already satisfied: atomicwrites>=1.0 in /usr/local/lib/python3.6/dist-packages (from pytest->EGG==0.1.0) (1.4.0)\n",
            "Requirement already satisfied: pluggy<0.8,>=0.5 in /usr/local/lib/python3.6/dist-packages (from pytest->EGG==0.1.0) (0.7.1)\n",
            "Requirement already satisfied: more-itertools>=4.0.0 in /usr/local/lib/python3.6/dist-packages (from pytest->EGG==0.1.0) (8.7.0)\n",
            "Requirement already satisfied: pygments<3.0.0,>=2.6.0 in /usr/local/lib/python3.6/dist-packages (from rich->EGG==0.1.0) (2.6.1)\n",
            "Collecting colorama<0.5.0,>=0.4.0\n",
            "  Downloading https://files.pythonhosted.org/packages/44/98/5b86278fbbf250d239ae0ecb724f8572af1c91f4a11edf4d36a206189440/colorama-0.4.4-py2.py3-none-any.whl\n",
            "Collecting commonmark<0.10.0,>=0.9.0\n",
            "\u001b[?25l  Downloading https://files.pythonhosted.org/packages/b1/92/dfd892312d822f36c55366118b95d914e5f16de11044a27cf10a7d71bbbf/commonmark-0.9.1-py2.py3-none-any.whl (51kB)\n",
            "\u001b[K     |████████████████████████████████| 51kB 8.7MB/s \n",
            "\u001b[?25hBuilding wheels for collected packages: EGG\n",
            "  Building wheel for EGG (setup.py) ... \u001b[?25l\u001b[?25hdone\n",
            "  Created wheel for EGG: filename=EGG-0.1.0-cp36-none-any.whl size=127607 sha256=3bb5740f9141003ca7b1727433aebfc0c5f9ae9cdaaeb4eeae8bca59ca06500e\n",
            "  Stored in directory: /tmp/pip-ephem-wheel-cache-1w0dqdtv/wheels/69/45/1b/d73e992bfa599a0e529de656c959a96277709640f819d1fc64\n",
            "Successfully built EGG\n",
            "Installing collected packages: colorama, commonmark, rich, EGG\n",
            "Successfully installed EGG-0.1.0 colorama-0.4.4 commonmark-0.9.1 rich-9.11.1\n"
          ],
          "name": "stdout"
        }
      ]
    },
    {
      "cell_type": "code",
      "metadata": {
        "id": "KWY2aMMLOW1Q"
      },
      "source": [
        "%matplotlib inline\n",
        "%load_ext autoreload\n",
        "%autoreload 2\n",
        "\n",
        "\n",
        "import torch\n",
        "import torch.nn as nn\n",
        "import egg.core as core\n",
        "\n",
        "from torchvision import datasets, transforms\n",
        "from torch import nn\n",
        "from torch.nn import functional as F\n",
        "\n",
        "import matplotlib.pyplot as plt\n",
        "import random\n",
        "import numpy as np\n",
        "\n",
        "from pylab import rcParams\n",
        "rcParams['figure.figsize'] = 5, 10\n",
        "\n",
        "# For convenince and reproducibility, we set some EGG-level command line arguments here\n",
        "opts = core.init(params=['--random_seed=7', # will initialize numpy, torch, and python RNGs\n",
        "                         '--lr=1e-3',   # sets the learning rate for the selected optimizer \n",
        "                         '--batch_size=32',\n",
        "                         '--optimizer=adam'])\n",
        "\n",
        "device = torch.device(\"cuda\" if torch.cuda.is_available() else \"cpu\")"
      ],
      "execution_count": null,
      "outputs": []
    },
    {
      "cell_type": "markdown",
      "metadata": {
        "id": "IaCaK1rBOW1S"
      },
      "source": [
        "In most cases, we want to start a script by initializing EGG by calling `core.init` Typically, we use command-line arguments for that (see https://github.com/fairinternal/EGG/blob/master/egg/core/CL.md for more details)"
      ]
    },
    {
      "cell_type": "markdown",
      "metadata": {
        "id": "qIXmMiczOW1T"
      },
      "source": [
        "Next, we implement our ```Vision``` module (a part of a standard MNIST [model](https://github.com/pytorch/examples/blob/master/mnist/main.py)) that maps a MNIST image into a 500-dimensional vector.\n",
        "To pre-train this ```Vision``` module, we'll use the auxilary task of classifying MNIST digits. For this, we also define a ```PretrainNet``` model that takes the output of ```Vision``` and classifies images into 10 classes (0, 1, ..., 9)."
      ]
    },
    {
      "cell_type": "code",
      "metadata": {
        "id": "WYWgdwoSOW1T"
      },
      "source": [
        "class Vision(nn.Module):\n",
        "    def __init__(self):\n",
        "        super(Vision, self).__init__()\n",
        "        self.conv1 = nn.Conv2d(1, 20, 5, 1)\n",
        "        self.conv2 = nn.Conv2d(20, 50, 5, 1)\n",
        "        self.fc1 = nn.Linear(4*4*50, 500)\n",
        "\n",
        "    def forward(self, x):\n",
        "        x = F.relu(self.conv1(x))\n",
        "        x = F.max_pool2d(x, 2, 2)\n",
        "        x = F.relu(self.conv2(x))\n",
        "        x = F.max_pool2d(x, 2, 2)\n",
        "        x = x.view(-1, 4*4*50)\n",
        "        x = F.relu(self.fc1(x))\n",
        "        return x\n",
        "\n",
        "class PretrainNet(nn.Module):\n",
        "    def __init__(self, vision_module):\n",
        "        super(PretrainNet, self).__init__()\n",
        "        self.vision_module = vision_module\n",
        "        self.fc = nn.Linear(500, 10)\n",
        "        \n",
        "    def forward(self, x):\n",
        "        x = self.vision_module(x)\n",
        "        x = self.fc(F.leaky_relu(x))\n",
        "        return x"
      ],
      "execution_count": null,
      "outputs": []
    },
    {
      "cell_type": "markdown",
      "metadata": {
        "id": "8ZG--qS-OW1U"
      },
      "source": [
        "We also need DataLoaders for MNIST...."
      ]
    },
    {
      "cell_type": "code",
      "metadata": {
        "colab": {
          "base_uri": "https://localhost:8080/",
          "height": 411,
          "referenced_widgets": [
            "46c42efbe28344d8a78f851d745308c6",
            "38d2228921124431a9b70a0b5663d799",
            "41cd8ebad7064b97b821ea118b2b0d5b",
            "bce6033b3bcf4d52b4e5a041436b4d60",
            "fa7832969234457088c6738a2c0c42d5",
            "877b348946324c11a6fe2178c839c005",
            "30aa97d0aee444a38b20bc7dbf1c57c4",
            "82beb50105f14bf882e725d625d991bc",
            "335fb1c63f8c416f9038aea09103b4fd",
            "669c17876bb2454e9bd860814f45a7b9",
            "7014aac38a79487faa32763021e13942",
            "23b589ba52054c82be65e27cd2606ce6",
            "14823a0a822c4e299e113cf95f008eed",
            "1813e266a02d404ead5496354c95011d",
            "551b077a4bd743e388a15c64a527664f",
            "33e26c72916a42a18add600401d3941d",
            "73092f6d4db94c8a930533215aa5e774",
            "4afa68ba3ee349f9afff7fc286322e90",
            "67b41b0a0c474487984616855eaf91f4",
            "18b2306454d34af9aee0616684088f8d",
            "e864a925d2bd4b4bb47fd9109ebadbaa",
            "65ec07d7142c45dc86d2c13e51751041",
            "4115cadbb3074b3fb6eb7aebb964e122",
            "aa3cba5d664f44ada4d0e0c120f517df",
            "0b15e560a37840199142cc1a4ae18922",
            "73e7cbd217404daf8dbae8899f10d704",
            "53a48f6a6db642978e90b487548b5b11",
            "130bdb06b8144500b99bd7d7066c31b5",
            "ad99876682904f1488ed5a7666ce17f3",
            "5167857d1a654bd6b2b67fb0f7a7048d",
            "b28be82d6aa04054987451e6b78a3960",
            "ccb9cc7eeabb4efd9af4c53703ea37bf"
          ]
        },
        "id": "hMKu2W5wOW1V",
        "outputId": "7638af62-173c-4ffd-b36e-9d750d351760"
      },
      "source": [
        "kwargs = {'num_workers': 1, 'pin_memory': True} if torch.cuda.is_available() else {}\n",
        "transform = transforms.ToTensor()\n",
        "\n",
        "batch_size = opts.batch_size # set via the CL arguments above\n",
        "train_loader = torch.utils.data.DataLoader(\n",
        "        datasets.MNIST('./data', train=True, download=True,\n",
        "           transform=transform),\n",
        "           batch_size=batch_size, shuffle=True, **kwargs)\n",
        "test_loader = torch.utils.data.DataLoader(\n",
        "        datasets.MNIST('./data', train=False, transform=transform),\n",
        "           batch_size=batch_size, shuffle=False, **kwargs)"
      ],
      "execution_count": null,
      "outputs": [
        {
          "output_type": "stream",
          "text": [
            "Downloading http://yann.lecun.com/exdb/mnist/train-images-idx3-ubyte.gz to ./data/MNIST/raw/train-images-idx3-ubyte.gz\n"
          ],
          "name": "stdout"
        },
        {
          "output_type": "display_data",
          "data": {
            "application/vnd.jupyter.widget-view+json": {
              "model_id": "46c42efbe28344d8a78f851d745308c6",
              "version_major": 2,
              "version_minor": 0
            },
            "text/plain": [
              "HBox(children=(FloatProgress(value=1.0, bar_style='info', max=1.0), HTML(value='')))"
            ]
          },
          "metadata": {
            "tags": []
          }
        },
        {
          "output_type": "stream",
          "text": [
            "Extracting ./data/MNIST/raw/train-images-idx3-ubyte.gz to ./data/MNIST/raw\n",
            "Downloading http://yann.lecun.com/exdb/mnist/train-labels-idx1-ubyte.gz to ./data/MNIST/raw/train-labels-idx1-ubyte.gz\n"
          ],
          "name": "stdout"
        },
        {
          "output_type": "display_data",
          "data": {
            "application/vnd.jupyter.widget-view+json": {
              "model_id": "335fb1c63f8c416f9038aea09103b4fd",
              "version_major": 2,
              "version_minor": 0
            },
            "text/plain": [
              "HBox(children=(FloatProgress(value=1.0, bar_style='info', max=1.0), HTML(value='')))"
            ]
          },
          "metadata": {
            "tags": []
          }
        },
        {
          "output_type": "stream",
          "text": [
            "Extracting ./data/MNIST/raw/train-labels-idx1-ubyte.gz to ./data/MNIST/raw\n",
            "Downloading http://yann.lecun.com/exdb/mnist/t10k-images-idx3-ubyte.gz to ./data/MNIST/raw/t10k-images-idx3-ubyte.gz\n"
          ],
          "name": "stdout"
        },
        {
          "output_type": "display_data",
          "data": {
            "application/vnd.jupyter.widget-view+json": {
              "model_id": "73092f6d4db94c8a930533215aa5e774",
              "version_major": 2,
              "version_minor": 0
            },
            "text/plain": [
              "HBox(children=(FloatProgress(value=1.0, bar_style='info', max=1.0), HTML(value='')))"
            ]
          },
          "metadata": {
            "tags": []
          }
        },
        {
          "output_type": "stream",
          "text": [
            "Extracting ./data/MNIST/raw/t10k-images-idx3-ubyte.gz to ./data/MNIST/raw\n",
            "Downloading http://yann.lecun.com/exdb/mnist/t10k-labels-idx1-ubyte.gz to ./data/MNIST/raw/t10k-labels-idx1-ubyte.gz\n",
            "\n",
            "\n"
          ],
          "name": "stdout"
        },
        {
          "output_type": "display_data",
          "data": {
            "application/vnd.jupyter.widget-view+json": {
              "model_id": "0b15e560a37840199142cc1a4ae18922",
              "version_major": 2,
              "version_minor": 0
            },
            "text/plain": [
              "HBox(children=(FloatProgress(value=1.0, bar_style='info', max=1.0), HTML(value='')))"
            ]
          },
          "metadata": {
            "tags": []
          }
        },
        {
          "output_type": "stream",
          "text": [
            "Extracting ./data/MNIST/raw/t10k-labels-idx1-ubyte.gz to ./data/MNIST/raw\n",
            "Processing...\n",
            "Done!\n"
          ],
          "name": "stdout"
        },
        {
          "output_type": "stream",
          "text": [
            "/usr/local/lib/python3.6/dist-packages/torchvision/datasets/mnist.py:480: UserWarning: The given NumPy array is not writeable, and PyTorch does not support non-writeable tensors. This means you can write to the underlying (supposedly non-writeable) NumPy array using the tensor. You may want to copy the array to protect its data or make it writeable before converting it to a tensor. This type of warning will be suppressed for the rest of this program. (Triggered internally at  /pytorch/torch/csrc/utils/tensor_numpy.cpp:141.)\n",
            "  return torch.from_numpy(parsed.astype(m[2], copy=False)).view(*s)\n"
          ],
          "name": "stderr"
        }
      ]
    },
    {
      "cell_type": "markdown",
      "metadata": {
        "id": "B2VpMOVaOW1W"
      },
      "source": [
        "Now, everything is ready to actually run the pre-training. First, we instantiate the modules and then run 10 epochs of MNIST digit recognition by a PretrainNet instance:"
      ]
    },
    {
      "cell_type": "code",
      "metadata": {
        "id": "q8yR6DVJOW1W"
      },
      "source": [
        "vision = Vision()\n",
        "class_prediction = PretrainNet(vision) #  note that we pass vision - which we want to pretrain\n",
        "optimizer = core.build_optimizer(class_prediction.parameters()) #  uses command-line parameters we passed to core.init\n",
        "class_prediction = class_prediction.to(device)"
      ],
      "execution_count": null,
      "outputs": []
    },
    {
      "cell_type": "markdown",
      "metadata": {
        "id": "H-Zj5gjiOW1X"
      },
      "source": [
        "Now we can run very typical Pytorch training loop to pretrain the vision module:"
      ]
    },
    {
      "cell_type": "code",
      "metadata": {
        "colab": {
          "background_save": true,
          "base_uri": "https://localhost:8080/"
        },
        "id": "4iH9WuAOOW1X",
        "outputId": "cae25568-0755-4ecc-d6db-6bf201bd44eb"
      },
      "source": [
        "for epoch in range(10):\n",
        "    mean_loss, n_batches = 0, 0\n",
        "    for batch_idx, (data, target) in enumerate(train_loader):\n",
        "        data, target = data.to(device), target.to(device)\n",
        "        optimizer.zero_grad()\n",
        "        output = class_prediction(data)\n",
        "        loss = F.cross_entropy(output, target)\n",
        "        loss.backward()\n",
        "        optimizer.step()\n",
        "        \n",
        "        mean_loss += loss.mean().item()\n",
        "        n_batches += 1\n",
        "        \n",
        "    print(f'Train Epoch: {epoch}, mean loss: {mean_loss / n_batches}')"
      ],
      "execution_count": null,
      "outputs": [
        {
          "output_type": "stream",
          "text": [
            "Train Epoch: 0, mean loss: 0.129781679030663\n",
            "Train Epoch: 1, mean loss: 0.042545383921537235\n",
            "Train Epoch: 2, mean loss: 0.02783912479625627\n",
            "Train Epoch: 3, mean loss: 0.021118555189024966\n",
            "Train Epoch: 4, mean loss: 0.0159461654372446\n",
            "Train Epoch: 5, mean loss: 0.01427251018244236\n",
            "Train Epoch: 6, mean loss: 0.010571571410249059\n",
            "Train Epoch: 7, mean loss: 0.009600780376554978\n",
            "Train Epoch: 8, mean loss: 0.008050744443861634\n",
            "Train Epoch: 9, mean loss: 0.008648603860734055\n"
          ],
          "name": "stdout"
        }
      ]
    },
    {
      "cell_type": "markdown",
      "metadata": {
        "id": "djVcGNcfOW1Y"
      },
      "source": [
        "Awesome! Now ```vision``` is a pre-trained ```Vision``` module and we can proceed to actually implement the communication game."
      ]
    },
    {
      "cell_type": "markdown",
      "metadata": {
        "id": "MpkU1fDYOW1Z"
      },
      "source": [
        "## Single-symbol communication\n",
        "\n",
        "As said before, Sender/Receiver games only differ in the data used, the architecture of the agents, the type of the channel, and the loss.\n",
        "We will start with the simplest communication case, one-symbol communication.\n",
        "\n",
        "\n",
        "Let's define our Sender (that will re-use the pre-trained ```vision``` module) and Receiver. \n",
        "For implementing single-symbol games, EGG provides special wrappers, ```GumbelSoftmaxWrapper``` and ```ReinforceWrapper``` that wrap an agent and implement the required Gumbel-Softmax or Reinforce-specific logic. Both wrappers assume that the agent returns log-probabilities over all terms for the vocabulary.\n",
        "\n",
        "We start by defining the logic of our agents:"
      ]
    },
    {
      "cell_type": "code",
      "metadata": {
        "id": "l07sDv2ZOW1Z"
      },
      "source": [
        "class Sender(nn.Module):\n",
        "    def __init__(self, vision, output_size):\n",
        "        super(Sender, self).__init__()\n",
        "        self.fc = nn.Linear(500, output_size)\n",
        "        self.vision = vision\n",
        "        \n",
        "    def forward(self, x):\n",
        "        with torch.no_grad():\n",
        "            x = self.vision(x)\n",
        "        x = self.fc(x)\n",
        "        return x\n",
        "    \n",
        "    \n",
        "class Receiver(nn.Module):\n",
        "    def __init__(self, input_size):\n",
        "        super(Receiver, self).__init__()\n",
        "        self.fc = nn.Linear(input_size, 784)\n",
        "\n",
        "    def forward(self, channel_input, receiver_input=None):\n",
        "        x = self.fc(channel_input)\n",
        "        return torch.sigmoid(x)\n",
        "\n",
        "sender = Sender(vision, output_size=400)\n",
        "receiver = Receiver(input_size=400)"
      ],
      "execution_count": null,
      "outputs": []
    },
    {
      "cell_type": "markdown",
      "metadata": {
        "id": "ZYah0JjuOW1a"
      },
      "source": [
        "While ```GumbelSoftmaxWrapper``` and ```ReinforceWrapper``` have the same interface to the user's defined Sender and Receiver, they do differ in their output.\n",
        "\n",
        "Since ```GumbelSoftmaxWrapper``` uses relaxation of the symbols, it doesn't output the index of the used symbol; instead, it outputs a tensor of dimensions (batch size; vocab size) with potentially all elements being non-zero. In evaluation mode, it outputs a tensor of the same dimensionality, but with the one-hot encoded symbol of highest probability. In contrast, ```ReinforceWrapper``` directly outputs the index of the transmitted symbol (plus other data to be discussed below). \n",
        "\n",
        "To make the change of wrappers simpler, we define a special helper layer, `core.RelaxedEmbedding` which behaves as a standard `torch.nn.Embedding` layer if the inputs are indexes (i.e. are of type torch.long), or provides their relaxation, if they are a tensor of floats. You don't have to use this, but it makes changing the training from GS-based to RF-based and vice-versa very simple, because you do not need to worry about the type of the input that the Receiver will get.\n",
        "\n",
        "Furthermore, you can also wrap your Receiver agent logic in the `core.SymbolReceiverWrapper`. This wrapper would embed the input symbol via the `core.RelaxedEmbedding` and pass the resulting embedding to the user-implement agent.\n",
        "\n",
        "(NB: `core.RelaxedEmbedding` has the same initialization as `torch.nn.Embedding` - different from that of `nn.Linear`!)"
      ]
    },
    {
      "cell_type": "markdown",
      "metadata": {
        "id": "i1KYgJzxOW1b"
      },
      "source": [
        "Apart from specifying the agents' architecture, we have to define the loss that the agents experience. By default, EGG expects the loss function to take the following arguments: Sender's input, the message transmitted, the input of the receiver, the output of the receiver, and the labels provided from the dataset. \n",
        "Any of those can be used or ignored. In the case of our MNIST auto-encoder game, there is no specific input for Receiver, so the game mechanics passes `None` instead."
      ]
    },
    {
      "cell_type": "code",
      "metadata": {
        "id": "gvHEv_IeOW1c"
      },
      "source": [
        "def loss(sender_input, _message, _receiver_input, receiver_output, _labels):\n",
        "    loss = F.binary_cross_entropy(receiver_output, sender_input.view(-1, 784), reduction='none').mean(dim=1)\n",
        "    return loss, {}"
      ],
      "execution_count": 8,
      "outputs": []
    },
    {
      "cell_type": "markdown",
      "metadata": {
        "id": "wLepFj0rOW1d"
      },
      "source": [
        "Note that this loss function is differentiable; it doesn't have to be differentiable if the training is done via Reinforce. However, if it is the case, the training of Receiver might be able to exploit that. See the [readme](https://github.com/facebookresearch/EGG/blob/master/README.md#an-important-technical-point) for more discussion.\n",
        "\n",
        "Another common parameter that would be shared across all the games we'll implement is the size of the vocabulary. We set it to 10 as MNIST has 10 digits; although it might be fun to play with other values."
      ]
    },
    {
      "cell_type": "code",
      "metadata": {
        "id": "pnoCmGOhOW1d"
      },
      "source": [
        "vocab_size = 10"
      ],
      "execution_count": 9,
      "outputs": []
    },
    {
      "cell_type": "markdown",
      "metadata": {
        "id": "eWgx7SZPOW1e"
      },
      "source": [
        "### Training with Gumbel-Softmax\n",
        "\n",
        "The next step is to actually create the agents. We first discuss how training can be done with Gumbel-Softmax. For that, we instantiate our Sender and Receiver and wrap Sender into `core.GumbelSoftmaxWrapper`."
      ]
    },
    {
      "cell_type": "code",
      "metadata": {
        "id": "OXG92ivcOW1e"
      },
      "source": [
        "sender = Sender(vision, vocab_size)\n",
        "sender = core.GumbelSoftmaxWrapper(sender, temperature=1.0) # wrapping into a GS interface, requires GS temperature\n",
        "receiver = Receiver(input_size=400)\n",
        "receiver = core.SymbolReceiverWrapper(receiver, vocab_size, agent_input_size=400)\n"
      ],
      "execution_count": 10,
      "outputs": []
    },
    {
      "cell_type": "markdown",
      "metadata": {
        "id": "I74u0etzOW1e"
      },
      "source": [
        "Once we have the agents created, we can adopt a pre-defined game logic which juggles the agents, messages, \n",
        "data, and the loss. Essentially, the game instance is also a `torch.nn.Module` - hence it can be handled as that, i.e.\n",
        "we can extract the trainable parameters of the agents, push it around devices, etc. Each game is expected to output a two-tuple. The first element of the tuple is a loss that is to be minimized. The second is a python dict `{}` of some auxilary values that are averaged over the epoch and printed. Accuracy or entropy of the communication channel are good examples of such auxilary data.\n",
        "\n",
        "\n",
        "Another entity that we will need is `core.Trainer`. Essentially, `Trainer` implements the training loop, handles checkpointing, etc.\n",
        "\n",
        "\n",
        "The Gumbel-Softmax distribution is parameterised by its temperature. In general, the latter has strong impact on training. To anneal the temperature of Sender, we create a callback that `trainer` invokes after each training epoch is over. In this snippet, the callback applies a multiplicative decay rule on the temperature value."
      ]
    },
    {
      "cell_type": "code",
      "metadata": {
        "id": "Cwv5EItzOW1g"
      },
      "source": [
        "game = core.SymbolGameGS(sender, receiver, loss)\n",
        "optimizer = torch.optim.Adam(game.parameters())\n",
        "\n",
        "trainer = core.Trainer(\n",
        "    game=game, optimizer=optimizer, train_data=train_loader,\n",
        "    validation_data=test_loader, callbacks=[core.TemperatureUpdater(agent=sender, decay=0.9, minimum=0.1)]\n",
        ")"
      ],
      "execution_count": 11,
      "outputs": []
    },
    {
      "cell_type": "markdown",
      "metadata": {
        "id": "7O1mvYGcOW1g"
      },
      "source": [
        "Yay, everything is ready for actual training!"
      ]
    },
    {
      "cell_type": "code",
      "metadata": {
        "id": "w4BEgY64OW1h"
      },
      "source": [
        "n_epochs = 15\n",
        "trainer.train(n_epochs)"
      ],
      "execution_count": 12,
      "outputs": []
    },
    {
      "cell_type": "markdown",
      "metadata": {
        "id": "W0hKhm64OW1i"
      },
      "source": [
        "Now when Sender and Receiver are trained, we firstly have a look at the codebook they came up with: what does Receiver output when given a particular word from a vocabulary? For that, we'll take every word in the vocabulary [0..9], wrap it into a tensor and pass it to Receiver:"
      ]
    },
    {
      "cell_type": "code",
      "metadata": {
        "id": "bdJraxZpOW1j",
        "colab": {
          "base_uri": "https://localhost:8080/",
          "height": 1000
        },
        "outputId": "88d8b37f-2984-4df4-d800-e5c528492bbe"
      },
      "source": [
        "game.eval()\n",
        "\n",
        "for z in range(vocab_size):\n",
        "    t = torch.zeros(vocab_size).to(device)\n",
        "    t[z] = 1\n",
        "    with torch.no_grad():\n",
        "        # Receiver outputs a single tensor of predictions\n",
        "        sample = game.receiver(t).float().cpu()\n",
        "    sample = sample.view(28, 28)\n",
        "    plt.title(f\"Input: symbol {z}\")\n",
        "    plt.imshow(sample, cmap='gray')\n",
        "    plt.show()"
      ],
      "execution_count": 13,
      "outputs": [
        {
          "output_type": "display_data",
          "data": {
            "image/png": "[encoded data removed]",
            "text/plain": [
              "<Figure size 360x720 with 1 Axes>"
            ]
          },
          "metadata": {
            "tags": [],
            "needs_background": "light"
          }
        },
        {
          "output_type": "display_data",
          "data": {
            "image/png": "[encoded data removed]",
            "text/plain": [
              "<Figure size 360x720 with 1 Axes>"
            ]
          },
          "metadata": {
            "tags": [],
            "needs_background": "light"
          }
        },
        {
          "output_type": "display_data",
          "data": {
            "image/png": "[encoded data removed]",
            "text/plain": [
              "<Figure size 360x720 with 1 Axes>"
            ]
          },
          "metadata": {
            "tags": [],
            "needs_background": "light"
          }
        },
        {
          "output_type": "display_data",
          "data": {
            "image/png": "[encoded data removed]",
            "text/plain": [
              "<Figure size 360x720 with 1 Axes>"
            ]
          },
          "metadata": {
            "tags": [],
            "needs_background": "light"
          }
        },
        {
          "output_type": "display_data",
          "data": {
            "image/png": "[encoded data removed]",
            "text/plain": [
              "<Figure size 360x720 with 1 Axes>"
            ]
          },
          "metadata": {
            "tags": [],
            "needs_background": "light"
          }
        },
        {
          "output_type": "display_data",
          "data": {
            "image/png": "[encoded data removed]",
            "text/plain": [
              "<Figure size 360x720 with 1 Axes>"
            ]
          },
          "metadata": {
            "tags": [],
            "needs_background": "light"
          }
        },
        {
          "output_type": "display_data",
          "data": {
            "image/png": "[encoded data removed]",
            "text/plain": [
              "<Figure size 360x720 with 1 Axes>"
            ]
          },
          "metadata": {
            "tags": [],
            "needs_background": "light"
          }
        },
        {
          "output_type": "display_data",
          "data": {
            "image/png": "[encoded data removed]",
            "text/plain": [
              "<Figure size 360x720 with 1 Axes>"
            ]
          },
          "metadata": {
            "tags": [],
            "needs_background": "light"
          }
        },
        {
          "output_type": "display_data",
          "data": {
            "image/png": "[encoded data removed]",
            "text/plain": [
              "<Figure size 360x720 with 1 Axes>"
            ]
          },
          "metadata": {
            "tags": [],
            "needs_background": "light"
          }
        },
        {
          "output_type": "display_data",
          "data": {
            "image/png": "[encoded data removed]",
            "text/plain": [
              "<Figure size 360x720 with 1 Axes>"
            ]
          },
          "metadata": {
            "tags": [],
            "needs_background": "light"
          }
        }
      ]
    },
    {
      "cell_type": "markdown",
      "metadata": {
        "id": "hiYejW0eOW1j"
      },
      "source": [
        "Ok, not too bad: some digits are vague, but others do resemble actual digits. Huh!\n",
        "\n",
        "\n",
        "Next, how good are our two agents at auto-encoding the images? Let's take some images from the validation set, feed them to Sender and look at (a) what messages are sent, (b) how does Receiver's output look like?\n",
        "\n",
        "First, we define a tiny, single-batch 10-digit test dataset:"
      ]
    },
    {
      "cell_type": "code",
      "metadata": {
        "id": "WE6hv_sGOW1k",
        "colab": {
          "base_uri": "https://localhost:8080/"
        },
        "outputId": "912010fc-ca46-48ef-f465-e5ab8c011d53"
      },
      "source": [
        "test_inputs = []\n",
        "for z in range(10):\n",
        "    index = (test_loader.dataset.targets[:100] == z).nonzero()[0, 0]\n",
        "    img, _ = test_loader.dataset[index]\n",
        "    test_inputs.append(img.unsqueeze(0))\n",
        "test_inputs = torch.cat(test_inputs)\n",
        "\n",
        "test_dataset = [[test_inputs, None]]"
      ],
      "execution_count": 14,
      "outputs": [
        {
          "output_type": "stream",
          "text": [
            "/usr/local/lib/python3.6/dist-packages/ipykernel_launcher.py:3: UserWarning: This overload of nonzero is deprecated:\n",
            "\tnonzero()\n",
            "Consider using one of the following signatures instead:\n",
            "\tnonzero(*, bool as_tuple) (Triggered internally at  /pytorch/torch/csrc/utils/python_arg_parser.cpp:882.)\n",
            "  This is separate from the ipykernel package so we can avoid doing imports until\n"
          ],
          "name": "stderr"
        }
      ]
    },
    {
      "cell_type": "markdown",
      "metadata": {
        "id": "zT5oZsLSOW1k"
      },
      "source": [
        "Next, we write a small helper function to dump and plot the input-outputs of the agents along with the communicated messages. We will use it throughout the tutorial."
      ]
    },
    {
      "cell_type": "code",
      "metadata": {
        "id": "IWp3nfcoOW1k"
      },
      "source": [
        "def plot(game, test_dataset, is_gs, variable_length):\n",
        "    interaction = \\\n",
        "            core.dump_interactions(game, test_dataset, is_gs, variable_length)\n",
        "\n",
        "    for z in range(10):\n",
        "        src = interaction.sender_input[z].squeeze(0)\n",
        "        dst = interaction.receiver_output[z].view(28, 28)\n",
        "        # we'll plot two images side-by-side: the original (left) and the reconstruction\n",
        "        image = torch.cat([src, dst], dim=1).cpu().numpy()\n",
        "\n",
        "        plt.title(f\"Input: digit {z}, channel message {interaction.message[z]}\")\n",
        "        plt.imshow(image, cmap='gray')\n",
        "        plt.show()"
      ],
      "execution_count": 15,
      "outputs": []
    },
    {
      "cell_type": "markdown",
      "metadata": {
        "id": "nGtuLXITOW1l"
      },
      "source": [
        "Here the left image is the original and the one on the right is the recovered one, each pair is labelled by the original class and the symbol sent over the channel."
      ]
    },
    {
      "cell_type": "code",
      "metadata": {
        "id": "LMGnssddOW1m",
        "colab": {
          "base_uri": "https://localhost:8080/",
          "height": 1000
        },
        "outputId": "663050d2-18ec-488e-f5aa-7067caaffd4a"
      },
      "source": [
        "plot(game, test_dataset, is_gs=True, variable_length=False)"
      ],
      "execution_count": 16,
      "outputs": [
        {
          "output_type": "display_data",
          "data": {
            "image/png": "[encoded data removed]",
            "text/plain": [
              "<Figure size 360x720 with 1 Axes>"
            ]
          },
          "metadata": {
            "tags": [],
            "needs_background": "light"
          }
        },
        {
          "output_type": "display_data",
          "data": {
            "image/png": "[encoded data removed]",
            "text/plain": [
              "<Figure size 360x720 with 1 Axes>"
            ]
          },
          "metadata": {
            "tags": [],
            "needs_background": "light"
          }
        },
        {
          "output_type": "display_data",
          "data": {
            "image/png": "[encoded data removed]",
            "text/plain": [
              "<Figure size 360x720 with 1 Axes>"
            ]
          },
          "metadata": {
            "tags": [],
            "needs_background": "light"
          }
        },
        {
          "output_type": "display_data",
          "data": {
            "image/png": "[encoded data removed]",
            "text/plain": [
              "<Figure size 360x720 with 1 Axes>"
            ]
          },
          "metadata": {
            "tags": [],
            "needs_background": "light"
          }
        },
        {
          "output_type": "display_data",
          "data": {
            "image/png": "[encoded data removed]",
            "text/plain": [
              "<Figure size 360x720 with 1 Axes>"
            ]
          },
          "metadata": {
            "tags": [],
            "needs_background": "light"
          }
        },
        {
          "output_type": "display_data",
          "data": {
            "image/png": "[encoded data removed]",
            "text/plain": [
              "<Figure size 360x720 with 1 Axes>"
            ]
          },
          "metadata": {
            "tags": [],
            "needs_background": "light"
          }
        },
        {
          "output_type": "display_data",
          "data": {
            "image/png": "[encoded data removed]",
            "text/plain": [
              "<Figure size 360x720 with 1 Axes>"
            ]
          },
          "metadata": {
            "tags": [],
            "needs_background": "light"
          }
        },
        {
          "output_type": "display_data",
          "data": {
            "image/png": "[encoded data removed]",
            "text/plain": [
              "<Figure size 360x720 with 1 Axes>"
            ]
          },
          "metadata": {
            "tags": [],
            "needs_background": "light"
          }
        },
        {
          "output_type": "display_data",
          "data": {
            "image/png": "[encoded data removed]",
            "text/plain": [
              "<Figure size 360x720 with 1 Axes>"
            ]
          },
          "metadata": {
            "tags": [],
            "needs_background": "light"
          }
        },
        {
          "output_type": "display_data",
          "data": {
            "image/png": "[encoded data removed]",
            "text/plain": [
              "<Figure size 360x720 with 1 Axes>"
            ]
          },
          "metadata": {
            "tags": [],
            "needs_background": "light"
          }
        }
      ]
    },
    {
      "cell_type": "markdown",
      "metadata": {
        "id": "J3sS7jm1OW1m"
      },
      "source": [
        "Again, not totally unreasonable! \n",
        "\n",
        "### Training with Reinforce\n",
        "What's the equivalent code when training by Reinforce?\n",
        "\n",
        "We create exactly the same Sender instance, but then feed it into ```core.ReinforceWrapper```. This wrapper implements the boilerplate code required for Reinforce-based optimization: samples from a distribution, records the log-probability of what was sampled, and reports the entropy of the distribution (*).\n",
        "\n",
        "Hence, each agent returns a tuple of three elements: the actual sampled output, the log-probability of the sampled output, and the entropy of the sampling distribution. During the evaluation, the sampling process is replaced by taking the most likely output.\n",
        "\n",
        "But what if an agent (e.g. Receiver) runs a deterministic function? In that case, we use a simple `core.ReinforceDeterministicWrapper` that appends zero entropy and log-probability tensors. `ReinforceDeterministicWrapper` can only be used if Receiver's parameters can be optimized via a gradient-based optimization, i.e. the loss function has to be differentiable.\n",
        "\n",
        "\n",
        "\n",
        "(*) Entropy regularization is used to encourage the agents to do some exploration."
      ]
    },
    {
      "cell_type": "code",
      "metadata": {
        "id": "l1rX9gPCOW1n"
      },
      "source": [
        "sender = Sender(vision, output_size=vocab_size)\n",
        "sender = core.ReinforceWrapper(sender)  # wrapping into a Reinforce interface\n",
        "\n",
        "receiver = Receiver(input_size=400)\n",
        "receiver = core.SymbolReceiverWrapper(receiver, vocab_size, agent_input_size=400)\n",
        "receiver = core.ReinforceDeterministicWrapper(receiver)"
      ],
      "execution_count": 17,
      "outputs": []
    },
    {
      "cell_type": "markdown",
      "metadata": {
        "id": "aPDv-TDaOW1o"
      },
      "source": [
        "This time we use the one-symbol game implementation with Reinforce logic, `core.SymbolGameReinforce`. It also consumes two entropy regularization terms, for Sender and Receiver. The entropies of the output distributions of the agents are weighted by these parameters and added to the loss.\n",
        "\n",
        "Note that we managed to change from Gumbel Softmax to Reinforce training by only (a) changing the agent wrappers, (b) changing the game type."
      ]
    },
    {
      "cell_type": "code",
      "metadata": {
        "id": "3vAjB_IYOW1o"
      },
      "source": [
        "game = core.SymbolGameReinforce(sender, receiver, loss, sender_entropy_coeff=0.05, receiver_entropy_coeff=0.0)\n",
        "optimizer = torch.optim.Adam(game.parameters(), lr=1e-2) #  we can also use a manually set optimizer\n",
        "\n",
        "trainer = core.Trainer(game=game, optimizer=optimizer, train_data=train_loader,\n",
        "                           validation_data=test_loader)"
      ],
      "execution_count": 18,
      "outputs": []
    },
    {
      "cell_type": "code",
      "metadata": {
        "id": "kcJWpHf2OW1o"
      },
      "source": [
        "n_epochs = 15\n",
        "trainer.train(n_epochs)"
      ],
      "execution_count": 19,
      "outputs": []
    },
    {
      "cell_type": "markdown",
      "metadata": {
        "id": "WDvZagpoOW1p"
      },
      "source": [
        "Now let's check what is in the communication code book and the quality of the auto-encoding. The dumping code is essentially the same as before, the only change is that Receiver returns a tuple of three elements, and we need only one."
      ]
    },
    {
      "cell_type": "code",
      "metadata": {
        "id": "vcPGy56KOW1p",
        "colab": {
          "base_uri": "https://localhost:8080/",
          "height": 1000
        },
        "outputId": "810a9e6b-fa57-4610-bbfe-7ae3c88fbabb"
      },
      "source": [
        "game.eval()\n",
        "\n",
        "for z in range(vocab_size):\n",
        "    t = torch.zeros(vocab_size).to(device)\n",
        "    t[z] = 1\n",
        "    with torch.no_grad():\n",
        "        sample, _1, _2 = game.receiver(t)\n",
        "        sample = sample.float().cpu()\n",
        "    sample = sample.view(28, 28)\n",
        "    plt.title(f\"Input: symbol {z}\")\n",
        "    plt.imshow(sample, cmap='gray')\n",
        "    plt.show()"
      ],
      "execution_count": 20,
      "outputs": [
        {
          "output_type": "display_data",
          "data": {
            "image/png": "[encoded data removed]",
            "text/plain": [
              "<Figure size 360x720 with 1 Axes>"
            ]
          },
          "metadata": {
            "tags": [],
            "needs_background": "light"
          }
        },
        {
          "output_type": "display_data",
          "data": {
            "image/png": "[encoded data removed]",
            "text/plain": [
              "<Figure size 360x720 with 1 Axes>"
            ]
          },
          "metadata": {
            "tags": [],
            "needs_background": "light"
          }
        },
        {
          "output_type": "display_data",
          "data": {
            "image/png": "[encoded data removed]",
            "text/plain": [
              "<Figure size 360x720 with 1 Axes>"
            ]
          },
          "metadata": {
            "tags": [],
            "needs_background": "light"
          }
        },
        {
          "output_type": "display_data",
          "data": {
            "image/png": "[encoded data removed]",
            "text/plain": [
              "<Figure size 360x720 with 1 Axes>"
            ]
          },
          "metadata": {
            "tags": [],
            "needs_background": "light"
          }
        },
        {
          "output_type": "display_data",
          "data": {
            "image/png": "[encoded data removed]",
            "text/plain": [
              "<Figure size 360x720 with 1 Axes>"
            ]
          },
          "metadata": {
            "tags": [],
            "needs_background": "light"
          }
        },
        {
          "output_type": "display_data",
          "data": {
            "image/png": "[encoded data removed]",
            "text/plain": [
              "<Figure size 360x720 with 1 Axes>"
            ]
          },
          "metadata": {
            "tags": [],
            "needs_background": "light"
          }
        },
        {
          "output_type": "display_data",
          "data": {
            "image/png": "[encoded data removed]",
            "text/plain": [
              "<Figure size 360x720 with 1 Axes>"
            ]
          },
          "metadata": {
            "tags": [],
            "needs_background": "light"
          }
        },
        {
          "output_type": "display_data",
          "data": {
            "image/png": "[encoded data removed]",
            "text/plain": [
              "<Figure size 360x720 with 1 Axes>"
            ]
          },
          "metadata": {
            "tags": [],
            "needs_background": "light"
          }
        },
        {
          "output_type": "display_data",
          "data": {
            "image/png": "[encoded data removed]",
            "text/plain": [
              "<Figure size 360x720 with 1 Axes>"
            ]
          },
          "metadata": {
            "tags": [],
            "needs_background": "light"
          }
        },
        {
          "output_type": "display_data",
          "data": {
            "image/png": "[encoded data removed]",
            "text/plain": [
              "<Figure size 360x720 with 1 Axes>"
            ]
          },
          "metadata": {
            "tags": [],
            "needs_background": "light"
          }
        }
      ]
    },
    {
      "cell_type": "code",
      "metadata": {
        "id": "laF9UTM3OW1p",
        "colab": {
          "base_uri": "https://localhost:8080/",
          "height": 1000
        },
        "outputId": "75614d43-d07b-4ee3-d45e-4ed93aa4a20b"
      },
      "source": [
        "plot(game, test_dataset, is_gs=False, variable_length=False)"
      ],
      "execution_count": 21,
      "outputs": [
        {
          "output_type": "display_data",
          "data": {
            "image/png": "[encoded data removed]",
            "text/plain": [
              "<Figure size 360x720 with 1 Axes>"
            ]
          },
          "metadata": {
            "tags": [],
            "needs_background": "light"
          }
        },
        {
          "output_type": "display_data",
          "data": {
            "image/png": "[encoded data removed]",
            "text/plain": [
              "<Figure size 360x720 with 1 Axes>"
            ]
          },
          "metadata": {
            "tags": [],
            "needs_background": "light"
          }
        },
        {
          "output_type": "display_data",
          "data": {
            "image/png": "[encoded data removed]",
            "text/plain": [
              "<Figure size 360x720 with 1 Axes>"
            ]
          },
          "metadata": {
            "tags": [],
            "needs_background": "light"
          }
        },
        {
          "output_type": "display_data",
          "data": {
            "image/png": "[encoded data removed]",
            "text/plain": [
              "<Figure size 360x720 with 1 Axes>"
            ]
          },
          "metadata": {
            "tags": [],
            "needs_background": "light"
          }
        },
        {
          "output_type": "display_data",
          "data": {
            "image/png": "[encoded data removed]",
            "text/plain": [
              "<Figure size 360x720 with 1 Axes>"
            ]
          },
          "metadata": {
            "tags": [],
            "needs_background": "light"
          }
        },
        {
          "output_type": "display_data",
          "data": {
            "image/png": "[encoded data removed]",
            "text/plain": [
              "<Figure size 360x720 with 1 Axes>"
            ]
          },
          "metadata": {
            "tags": [],
            "needs_background": "light"
          }
        },
        {
          "output_type": "display_data",
          "data": {
            "image/png": "[encoded data removed]",
            "text/plain": [
              "<Figure size 360x720 with 1 Axes>"
            ]
          },
          "metadata": {
            "tags": [],
            "needs_background": "light"
          }
        },
        {
          "output_type": "display_data",
          "data": {
            "image/png": "[encoded data removed]",
            "text/plain": [
              "<Figure size 360x720 with 1 Axes>"
            ]
          },
          "metadata": {
            "tags": [],
            "needs_background": "light"
          }
        },
        {
          "output_type": "display_data",
          "data": {
            "image/png": "[encoded data removed]",
            "text/plain": [
              "<Figure size 360x720 with 1 Axes>"
            ]
          },
          "metadata": {
            "tags": [],
            "needs_background": "light"
          }
        },
        {
          "output_type": "display_data",
          "data": {
            "image/png": "[encoded data removed]",
            "text/plain": [
              "<Figure size 360x720 with 1 Axes>"
            ]
          },
          "metadata": {
            "tags": [],
            "needs_background": "light"
          }
        }
      ]
    },
    {
      "cell_type": "markdown",
      "metadata": {
        "id": "8Q8r_ZDwOW1q"
      },
      "source": [
        "Not too bad either! Let us move to a more interesting case: variable-length messages. "
      ]
    },
    {
      "cell_type": "markdown",
      "metadata": {
        "id": "q542dZK3OW1q"
      },
      "source": [
        "## Communication with variable-length messages\n",
        "\n",
        "This time, communication is carried out by RNNs. EGG provides pre-implemented code to use vanilla RNNs, GRUs, or LSTMs. There is also an experimental support for communication via Transformer-based blocks.\n",
        "\n",
        " Note that, when communicating over variable-length sequences, we need to define a special end-of-sequence symbol. The agents are trained such that the loss is calculated wrt to the Receiver output either after receiving the end-of-sequence symbol or after the maximal number of symbols were produced. EGG handles those scenarios, by defining special wrappers for agents, RnnSenderGS and RnnReceiverGS for Gumbel Softmax-based learning, and RnnSenderReinforce and RnnReceiverReinforce for Reinforce-based learning.\n",
        "\n",
        "By convention, the user-implemented Sender, after processing its input, outputs the initial hidden state vector for its RNN. EGG unrolls this RNN to produce a message. In turn, this message is fed into Receiver's RNN. The only thing that we need to implement for Receiver is how we map the Receiver RNN's hidden state to the Receiver's output.\n",
        "\n",
        "**Important points concerning end-of-sequence behaviour: (1) EGG assumes that the end-of-sequence symbol is always 0. (2) `vocab_size` always includes the end-of-sequence symbol - hence `vocab_size=2` specifies the unary encoding. (3) Communication stops immediately if the first symbol emitted by Sender is 0.**\n",
        "\n",
        "This time we'll have to specify some additional parameters:"
      ]
    },
    {
      "cell_type": "code",
      "metadata": {
        "id": "QWkTlVltOW1q"
      },
      "source": [
        "# we start by defining the RNN parameters\n",
        "hidden_size = 20\n",
        "emb_size = 10"
      ],
      "execution_count": 22,
      "outputs": []
    },
    {
      "cell_type": "markdown",
      "metadata": {
        "id": "KoTbyVUnOW1r"
      },
      "source": [
        "We will use the same pre-trained vision module. Note, this time **Sender does not output a vector which will be casted as logits of probabilities over the vocab - it only outputs the initial hidden state for its RNN cell**!"
      ]
    },
    {
      "cell_type": "markdown",
      "metadata": {
        "id": "qjdippBhOW1r"
      },
      "source": [
        "The rest is pretty much the same as before: we instantiate the instances and put them into wrappers (note that we set the RNN cell types to 'rnn' and maximal communication length `max_len=2`!)\n",
        "\n",
        "First, we'll go through Gumbel Softmax-based training.\n",
        "\n",
        "\n",
        "### Variable-length messages with Gumbel Softmax"
      ]
    },
    {
      "cell_type": "code",
      "metadata": {
        "id": "uTFwlyo3OW1r"
      },
      "source": [
        "sender = Sender(vision, hidden_size)\n",
        "receiver = Receiver(hidden_size)\n",
        "\n",
        "sender_rnn = core.RnnSenderGS(sender, vocab_size, emb_size, hidden_size,\n",
        "                                   cell=\"gru\", max_len=2, temperature=1.0)\n",
        "receiver_rnn = core.RnnReceiverGS(receiver, vocab_size, emb_size,\n",
        "                    hidden_size, cell=\"gru\")\n",
        "\n",
        "game_rnn = core.SenderReceiverRnnGS(sender_rnn, receiver_rnn, loss)"
      ],
      "execution_count": 23,
      "outputs": []
    },
    {
      "cell_type": "markdown",
      "metadata": {
        "id": "w-F2B2WlOW1r"
      },
      "source": [
        "Note that sometimes specifying different learning speeds for the two agents aids learning; this can be done as follows"
      ]
    },
    {
      "cell_type": "code",
      "metadata": {
        "id": "MMFxtFBEOW1s"
      },
      "source": [
        "optimizer = torch.optim.Adam([\n",
        "        {'params': game_rnn.sender.parameters(), 'lr': 1e-3},\n",
        "        {'params': game_rnn.receiver.parameters(), 'lr': 1e-2}\n",
        "    ])"
      ],
      "execution_count": 24,
      "outputs": []
    },
    {
      "cell_type": "markdown",
      "metadata": {
        "id": "e42XH4CdOW1s"
      },
      "source": [
        "Now we can train the agents"
      ]
    },
    {
      "cell_type": "code",
      "metadata": {
        "id": "y2aEcWP7OW1s"
      },
      "source": [
        "trainer = core.Trainer(game=game_rnn, optimizer=optimizer, train_data=train_loader,\n",
        "                           validation_data=test_loader)\n",
        "trainer.train(15)"
      ],
      "execution_count": 25,
      "outputs": []
    },
    {
      "cell_type": "markdown",
      "metadata": {
        "id": "it_2zEEkOW1t"
      },
      "source": [
        "Heh, the validation loss is lower than it used to be with one symbol communication. Let's see how it works. Again, the original image is on the left, the transmitted and decoded - on the right. The communicated message is in the title. Note that since default `vocab_size` is 10 and 0 is used for end-of-sequence, Sender has an effective vocabulary of 9 symbols.\n"
      ]
    },
    {
      "cell_type": "code",
      "metadata": {
        "id": "ClAPczC7OW1t",
        "colab": {
          "base_uri": "https://localhost:8080/",
          "height": 290
        },
        "outputId": "c63684ce-e24d-4e44-9af0-9840bb0ae6e7"
      },
      "source": [
        "plot(game_rnn, test_dataset, is_gs=True, variable_length=True)"
      ],
      "execution_count": 26,
      "outputs": [
        {
          "output_type": "error",
          "ename": "RuntimeError",
          "evalue": "ignored",
          "traceback": [
            "\u001b[0;31m---------------------------------------------------------------------------\u001b[0m",
            "\u001b[0;31mRuntimeError\u001b[0m                              Traceback (most recent call last)",
            "\u001b[0;32m<ipython-input-26-ccf33c1f413c>\u001b[0m in \u001b[0;36m<module>\u001b[0;34m()\u001b[0m\n\u001b[0;32m----> 1\u001b[0;31m \u001b[0mplot\u001b[0m\u001b[0;34m(\u001b[0m\u001b[0mgame_rnn\u001b[0m\u001b[0;34m,\u001b[0m \u001b[0mtest_dataset\u001b[0m\u001b[0;34m,\u001b[0m \u001b[0mis_gs\u001b[0m\u001b[0;34m=\u001b[0m\u001b[0;32mTrue\u001b[0m\u001b[0;34m,\u001b[0m \u001b[0mvariable_length\u001b[0m\u001b[0;34m=\u001b[0m\u001b[0;32mTrue\u001b[0m\u001b[0;34m)\u001b[0m\u001b[0;34m\u001b[0m\u001b[0;34m\u001b[0m\u001b[0m\n\u001b[0m",
            "\u001b[0;32m<ipython-input-15-7879d47f308f>\u001b[0m in \u001b[0;36mplot\u001b[0;34m(game, test_dataset, is_gs, variable_length)\u001b[0m\n\u001b[1;32m      4\u001b[0m     \u001b[0;32mfor\u001b[0m \u001b[0mz\u001b[0m \u001b[0;32min\u001b[0m \u001b[0mrange\u001b[0m\u001b[0;34m(\u001b[0m\u001b[0;36m10\u001b[0m\u001b[0;34m)\u001b[0m\u001b[0;34m:\u001b[0m\u001b[0;34m\u001b[0m\u001b[0;34m\u001b[0m\u001b[0m\n\u001b[1;32m      5\u001b[0m         \u001b[0msrc\u001b[0m \u001b[0;34m=\u001b[0m \u001b[0minteraction\u001b[0m\u001b[0;34m.\u001b[0m\u001b[0msender_input\u001b[0m\u001b[0;34m[\u001b[0m\u001b[0mz\u001b[0m\u001b[0;34m]\u001b[0m\u001b[0;34m.\u001b[0m\u001b[0msqueeze\u001b[0m\u001b[0;34m(\u001b[0m\u001b[0;36m0\u001b[0m\u001b[0;34m)\u001b[0m\u001b[0;34m\u001b[0m\u001b[0;34m\u001b[0m\u001b[0m\n\u001b[0;32m----> 6\u001b[0;31m         \u001b[0mdst\u001b[0m \u001b[0;34m=\u001b[0m \u001b[0minteraction\u001b[0m\u001b[0;34m.\u001b[0m\u001b[0mreceiver_output\u001b[0m\u001b[0;34m[\u001b[0m\u001b[0mz\u001b[0m\u001b[0;34m]\u001b[0m\u001b[0;34m.\u001b[0m\u001b[0mview\u001b[0m\u001b[0;34m(\u001b[0m\u001b[0;36m28\u001b[0m\u001b[0;34m,\u001b[0m \u001b[0;36m28\u001b[0m\u001b[0;34m)\u001b[0m\u001b[0;34m\u001b[0m\u001b[0;34m\u001b[0m\u001b[0m\n\u001b[0m\u001b[1;32m      7\u001b[0m         \u001b[0;31m# we'll plot two images side-by-side: the original (left) and the reconstruction\u001b[0m\u001b[0;34m\u001b[0m\u001b[0;34m\u001b[0m\u001b[0;34m\u001b[0m\u001b[0m\n\u001b[1;32m      8\u001b[0m         \u001b[0mimage\u001b[0m \u001b[0;34m=\u001b[0m \u001b[0mtorch\u001b[0m\u001b[0;34m.\u001b[0m\u001b[0mcat\u001b[0m\u001b[0;34m(\u001b[0m\u001b[0;34m[\u001b[0m\u001b[0msrc\u001b[0m\u001b[0;34m,\u001b[0m \u001b[0mdst\u001b[0m\u001b[0;34m]\u001b[0m\u001b[0;34m,\u001b[0m \u001b[0mdim\u001b[0m\u001b[0;34m=\u001b[0m\u001b[0;36m1\u001b[0m\u001b[0;34m)\u001b[0m\u001b[0;34m.\u001b[0m\u001b[0mcpu\u001b[0m\u001b[0;34m(\u001b[0m\u001b[0;34m)\u001b[0m\u001b[0;34m.\u001b[0m\u001b[0mnumpy\u001b[0m\u001b[0;34m(\u001b[0m\u001b[0;34m)\u001b[0m\u001b[0;34m\u001b[0m\u001b[0;34m\u001b[0m\u001b[0m\n",
            "\u001b[0;31mRuntimeError\u001b[0m: shape '[28, 28]' is invalid for input of size 2352"
          ]
        }
      ]
    },
    {
      "cell_type": "markdown",
      "metadata": {
        "id": "lp-FxHPHOW1t"
      },
      "source": [
        "Seems to work better than with length-one!\n",
        " \n",
        "We can also enumerate all possible 10x10 messages of length two {x = first symbol, y = second symbol} and check the Receiver's interpretation of the code, as shown next. NB: When x=0, the second symbol is ignored, as 0 is interpreted as end-of-sequence. For this reason, in this case Receiver generates the same image irrespective of y's value."
      ]
    },
    {
      "cell_type": "code",
      "metadata": {
        "id": "Wv2gz0QLOW1u"
      },
      "source": [
        "f, ax = plt.subplots(10, 10, sharex=True, sharey=True)\n",
        "\n",
        "for x in range(10):\n",
        "    for y in range(10):\n",
        "            \n",
        "        t = torch.zeros((1, 2, vocab_size)).to(device)\n",
        "        t[0, 0, x] = 1\n",
        "        t[0, 1, y] = 1\n",
        "\n",
        "        with torch.no_grad():\n",
        "            sample = game_rnn.receiver(t).float().cpu()\n",
        "            # 0 is the end-of-sequence symbol, hence we stop immediately when x == 0\n",
        "            output_index = (0 if x == 0 else 1)\n",
        "            sample = sample[0, output_index, :].view(28, 28)\n",
        "            ax[x][y].imshow(sample, cmap='gray')\n",
        "            \n",
        "            if y == 0:\n",
        "                ax[x][y].set_ylabel(f'x={x}')\n",
        "            if x == 0:\n",
        "                ax[x][y].set_title(f'y={y}')\n",
        "            \n",
        "            ax[x][y].set_yticklabels([])\n",
        "            ax[x][y].set_xticklabels([])\n",
        "plt.show()"
      ],
      "execution_count": null,
      "outputs": []
    },
    {
      "cell_type": "markdown",
      "metadata": {
        "id": "Kfd6q8adOW1u"
      },
      "source": [
        "For completeness, we re-iterate by training with Reinforce.\n",
        "\n",
        "### Variable-length messages with Reinforce"
      ]
    },
    {
      "cell_type": "code",
      "metadata": {
        "id": "G6szOFM9OW1v"
      },
      "source": [
        "sender = Sender(vision, hidden_size)\n",
        "receiver = Receiver(hidden_size)\n",
        "\n",
        "sender_rnn = core.RnnSenderReinforce(sender, vocab_size, emb_size, hidden_size,\n",
        "                                   cell=\"gru\", max_len=2)\n",
        "receiver_rnn = core.RnnReceiverDeterministic(receiver, vocab_size, emb_size,\n",
        "                    hidden_size, cell=\"gru\")\n",
        "\n",
        "game_rnn = core.SenderReceiverRnnReinforce(sender_rnn, receiver_rnn, loss, \n",
        "                                           sender_entropy_coeff=0.015, \n",
        "                                           receiver_entropy_coeff=0.0)"
      ],
      "execution_count": null,
      "outputs": []
    },
    {
      "cell_type": "code",
      "metadata": {
        "id": "rASZwkvoOW1v"
      },
      "source": [
        "optimizer = torch.optim.Adam([\n",
        "        {'params': game_rnn.sender.parameters(), 'lr': 1e-3},\n",
        "        {'params': game_rnn.receiver.parameters(), 'lr': 1e-2}\n",
        "    ])"
      ],
      "execution_count": null,
      "outputs": []
    },
    {
      "cell_type": "code",
      "metadata": {
        "id": "t5iOJzx9OW1v"
      },
      "source": [
        "trainer = core.Trainer(game=game_rnn, optimizer=optimizer, train_data=train_loader,\n",
        "                           validation_data=test_loader)\n",
        "trainer.train(15)"
      ],
      "execution_count": null,
      "outputs": []
    },
    {
      "cell_type": "markdown",
      "metadata": {
        "id": "Ae3DUzMGOW1w"
      },
      "source": [
        "Now we can check how the auto-encoding is done and the emerging protocol.\n"
      ]
    },
    {
      "cell_type": "code",
      "metadata": {
        "id": "f4Ex40jnOW1w"
      },
      "source": [
        "plot(game_rnn, test_dataset, is_gs=False, variable_length=True)"
      ],
      "execution_count": null,
      "outputs": []
    },
    {
      "cell_type": "code",
      "metadata": {
        "id": "OEUjIoYgOW1w"
      },
      "source": [
        "f, ax = plt.subplots(10, 10, sharex=True, sharey=True)\n",
        "\n",
        "for x in range(10):\n",
        "    for y in range(10):\n",
        "            \n",
        "        t = torch.zeros((1, 2)).to(device).long()\n",
        "        t[0, 0] = x\n",
        "        t[0, 1] = y\n",
        "\n",
        "        with torch.no_grad():\n",
        "            sample = game_rnn.receiver(t)[0].float().cpu()\n",
        "            sample = sample[0, :].view(28, 28)\n",
        "            ax[x][y].imshow(sample, cmap='gray')\n",
        "            \n",
        "            if y == 0:\n",
        "                ax[x][y].set_ylabel(f'x={x}')\n",
        "            if x == 0:\n",
        "                ax[x][y].set_title(f'y={y}')\n",
        "            \n",
        "            ax[x][y].set_yticklabels([])\n",
        "            ax[x][y].set_xticklabels([])\n",
        "plt.show()\n",
        "    "
      ],
      "execution_count": null,
      "outputs": []
    },
    {
      "cell_type": "markdown",
      "metadata": {
        "id": "4h-9FISnOW1x"
      },
      "source": [
        "Not surprisingly, the results are different. \n",
        "Sometimes (eg `x=3`, `x=7`) it looks like the first symbol in the message (x) encodes which digit Receiver should reproduce, while the second (y) has more effect on the style of the digit. But is it true? How would we check that? 🤔\n"
      ]
    },
    {
      "cell_type": "markdown",
      "metadata": {
        "id": "xFCogSAAOW1x"
      },
      "source": [
        "## (advanced under the hood stuff, may be skipped): optimization with stochastic nodes via Reinforce\n",
        "\n",
        "When we apply the differentiable relaxation of the communication channel by replacing the discrete messages with their Gumbel Softmax approximations, we make the entire Sender->Receiver pipeline differentiable. In contrast, Reinforce-based training doesn't make any relaxations. Instead, it effectively \"smoothes\" the channel by operating with a randomized distribution of messages, parameterised by Sender's output distribution.\n",
        "\n",
        "However, things might get more tricky with Reinforce-based training. In particular, it can happen that the loss on the Receiver's side is differentiable (as in our MNIST example above), and, in this case, we can train Receiver using the standard backprop. It might also happen that the loss is not differentiable (imagine 0-1 accuracy loss). In the latter case, Receiver also has to randomise its outputs.\n",
        "\n",
        "*EGG handles both cases with the same API*, however, it can be useful to know how it operates internally.\n",
        "\n",
        "Now, let's have a closer look at the optimisation problem. By $\\theta_s$ and $\\theta_r$ we denote the parameters of Sender and Receiver, respectively; $m$ is the message sent, and it comes from Sender's output distribution $P(m | i, \\theta_s)$; $R(m, \\theta_r)$ is Receiver's output, and $i$ is Sender's input. \n",
        "\n",
        "### Deterministic Receiver\n",
        "When Receiver is deterministic, we want to minimize the following aggregate loss for an input $i$:\n",
        "\n",
        "$$L = \\mathbb{E}_{m \\sim P(m | i, \\theta_s)}~ l(R(m, \\theta_r), m, i)$$\n",
        "\n",
        "The gradient wrt to ${\\theta_r}$ would be:\n",
        "\n",
        "$$\\nabla_{\\theta_r} L = \\nabla_{\\theta_r}\\mathbb{E}_{m \\sim P(m | i, \\theta_s)}~ l(R(m, \\theta_r), m, i) = \\mathbb{E}_{m \\sim P(m | i, \\theta_s)}~ \\nabla_{\\theta_r} l(R(m, \\theta_r), m, i) = \\mathbb{E}_{m \\sim P(m | i, \\theta_s)} \\frac{\\partial}{\\partial r } l(r, m, i) \\cdot \\nabla_{\\theta_r} R(m, \\theta_r)\n",
        "$$\n",
        "\n",
        "We can estimate it by sampling $N$ messages from Sender:\n",
        "$$\\frac{1}{N} \\sum_m \\frac{\\partial}{\\partial r } l(r, m, i) \\cdot \\nabla_{\\theta_r} R(m, \\theta_r)\n",
        "$$\n",
        "Note that this gradient of $\\theta_r$ is obtained by standard back-propogation from the loss with the messages sampled from Sender. By using the Reinforce trick, we estimate the second gradient by sampling $N$ messages from $P(m | i, \\theta_s)$:\n",
        "\n",
        "$$\\nabla_{\\theta_s} L = \\frac{1}{N} \\sum_m l(R(m, \\theta_r), m, i) \\nabla_{\\theta_s} \\log P(m | i, \\theta_s) $$\n",
        "\n",
        "**In this case, in Pytorch the gradients of both agents can be obtained by differentiating the sum**\n",
        "\n",
        "```(l.mean() + (l.detach() * log_prob_sender).mean()).backwards()```\n",
        "\n",
        "(note: EGG also utilizes the mean baseline to reduce variance of the gradient estimate, but we omit that here for simplicity).\n",
        "\n",
        "\n",
        "### Stochastic Receiver\n",
        "When the loss $l$ is not differentiable, and we sample output $o$ from Receiver $o \\sim P(o | m, \\theta_r)$, the expected loss becomes:\n",
        "\n",
        "$$L = \\mathbb{E}_{m, o \\sim P(m, o | i, \\theta_s, \\theta_r)} ~ l(o, m, i)$$\n",
        "\n",
        "The gradient wrt $\\theta_r$ would be\n",
        "$$\\nabla_{\\theta_r} L = \\mathbb{E}_{m, o \\sim P(m, o | i, \\theta_s, \\theta_r)} l(o, m, i) ~ \\nabla_{\\theta_r} log P(m, o | i, \\theta_s, \\theta_r) = \\mathbb{E}_{m, o \\sim P(m, o | i, \\theta_s, \\theta_r)} l(o, m, i) ~ \\nabla_{\\theta_r} log P(o | m, \\theta_r)$$\n",
        "\n",
        "By sampling $N$ $(m, o)$ pairs, we get\n",
        "$$\\nabla_{\\theta_r} L \\approx \\frac{1}{N} \\sum_{o, m} l(o, m, i) ~ \\nabla_{\\theta_r} log P(o | m, \\theta_r)$$\n",
        "\n",
        "and similarly, \n",
        "$$\\nabla_{\\theta_s} L \\approx \\frac{1}{N} \\sum_{o, m} l(o, m, i) ~ \\nabla_{\\theta_s} log P(m | i, \\theta_s)$$\n",
        "\n",
        "\n",
        "**In this case, in Pytorch the gradients of both agents can be obtained by differentiating the sum**\n",
        "\n",
        "```(l.detach() * (log_prob_sender + log_prob_receiver).mean()).backwards()```\n",
        "\n",
        "\n",
        "### Putting it all together\n",
        "\n",
        "Now, we can notice that if `l` is not differentiable, the gradient of `l.mean()` would be zero. Conversely, if Receiver is deterministic, `log_prob_receiver` would be the zero constant, hence its gradient is zero, too.\n",
        "\n",
        "Thus, both cases can be covered by minimizing the loss:\n",
        "\n",
        "```(l.mean() + (l.detach() * (log_prob_sender + log_prob_receiver).mean())).backwards()```\n",
        "\n",
        "And that is what EGG does internally. Depending on whether Receiver is wrapped in `ReinforceDeterministicWrapper`/`RnnReceiverDeterministic` or in `ReinforceWrapper`/`RnnReceiverReinforce` defines which part of the loss would be effective for training Receiver. \n",
        "\n",
        "\n",
        "Overall, this makes it hard to implement a general Reinforce interface for all possible losses. Some involved cases might require re-implementing game mechanics or resorting to Gumbel Softmax relaxation, which doesn't have this problem."
      ]
    },
    {
      "cell_type": "code",
      "metadata": {
        "id": "sd6LjRcNOW1x"
      },
      "source": [
        ""
      ],
      "execution_count": null,
      "outputs": []
    },
    {
      "cell_type": "code",
      "metadata": {
        "id": "ewt5865XOW1y"
      },
      "source": [
        ""
      ],
      "execution_count": null,
      "outputs": []
    }
  ]
}